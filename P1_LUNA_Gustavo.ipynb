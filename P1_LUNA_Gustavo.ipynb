{
 "cells": [
  {
   "cell_type": "markdown",
   "metadata": {
    "id": "t70oR4NhoaQJ"
   },
   "source": [
    "# PROYECTO FINAL"
   ]
  },
  {
   "cell_type": "markdown",
   "metadata": {
    "id": "pFdxnDZGo80b"
   },
   "source": [
    "## SETUP\n",
    "\n",
    "Instalación e importación librerias"
   ]
  },
  {
   "cell_type": "code",
   "execution_count": 1,
   "metadata": {
    "colab": {
     "base_uri": "https://localhost:8080/"
    },
    "id": "ppqJLzqlnPSD",
    "outputId": "cf110192-bd66-48de-9602-a5b2af57120f"
   },
   "outputs": [],
   "source": [
    "#!pip install pandas==2.2.2\n",
    "#!pip install ipython-autotime"
   ]
  },
  {
   "cell_type": "code",
   "execution_count": 2,
   "metadata": {},
   "outputs": [
    {
     "name": "stdout",
     "output_type": "stream",
     "text": [
      "time: 0 ns (started: 2024-05-06 10:05:19 -03:00)\n"
     ]
    }
   ],
   "source": [
    "%load_ext autotime"
   ]
  },
  {
   "cell_type": "code",
   "execution_count": 3,
   "metadata": {
    "id": "JkZzbGq0ppAt"
   },
   "outputs": [
    {
     "name": "stdout",
     "output_type": "stream",
     "text": [
      "time: 657 ms (started: 2024-05-06 10:05:19 -03:00)\n"
     ]
    }
   ],
   "source": [
    "import pandas as pd\n",
    "import os\n"
   ]
  },
  {
   "cell_type": "code",
   "execution_count": 4,
   "metadata": {},
   "outputs": [
    {
     "name": "stdout",
     "output_type": "stream",
     "text": [
      "time: 0 ns (started: 2024-05-06 10:05:19 -03:00)\n"
     ]
    }
   ],
   "source": [
    "separador = \"=\" * 60"
   ]
  },
  {
   "cell_type": "markdown",
   "metadata": {
    "id": "PA2QZjXIpNwh"
   },
   "source": [
    "## IMPORTACIÓN DATASETS ORIGINALES\n",
    "\n",
    "El primer paso es cargar los csv que contienen la información de cada una de las tablas que vamos a utilizar"
   ]
  },
  {
   "cell_type": "code",
   "execution_count": 5,
   "metadata": {},
   "outputs": [
    {
     "name": "stdout",
     "output_type": "stream",
     "text": [
      "time: 0 ns (started: 2024-05-06 10:05:19 -03:00)\n"
     ]
    }
   ],
   "source": [
    "# Ubicación de los archivos\n",
    "loc_orders=\"https://raw.githubusercontent.com/Andresmup/recursos-analisis-datos/main/14_Datasets_Originales/ecommerce_orders_dataset.csv\"\n",
    "loc_orders_items=\"https://raw.githubusercontent.com/Andresmup/recursos-analisis-datos/main/14_Datasets_Originales/ecommerce_order_items_dataset.csv\"\n",
    "loc_products=\"https://raw.githubusercontent.com/Andresmup/recursos-analisis-datos/main/14_Datasets_Originales/ecommerce_products_dataset.csv\"\n",
    "loc_customers=\"https://raw.githubusercontent.com/Andresmup/recursos-analisis-datos/main/14_Datasets_Originales/ecommerce_customers_dataset.csv\"\n",
    "loc_payments=\"https://raw.githubusercontent.com/Andresmup/recursos-analisis-datos/main/14_Datasets_Originales/ecommerce_order_payments_dataset.csv\""
   ]
  },
  {
   "cell_type": "markdown",
   "metadata": {
    "id": "QKjgX98F_IZU"
   },
   "source": [
    "### Orders"
   ]
  },
  {
   "cell_type": "code",
   "execution_count": 6,
   "metadata": {
    "colab": {
     "base_uri": "https://localhost:8080/",
     "height": 226
    },
    "id": "KxbDjgttrOtQ",
    "outputId": "674cbe15-5eea-43d7-94c5-98f508e32e8f"
   },
   "outputs": [
    {
     "data": {
      "text/html": [
       "<div>\n",
       "<style scoped>\n",
       "    .dataframe tbody tr th:only-of-type {\n",
       "        vertical-align: middle;\n",
       "    }\n",
       "\n",
       "    .dataframe tbody tr th {\n",
       "        vertical-align: top;\n",
       "    }\n",
       "\n",
       "    .dataframe thead th {\n",
       "        text-align: right;\n",
       "    }\n",
       "</style>\n",
       "<table border=\"1\" class=\"dataframe\">\n",
       "  <thead>\n",
       "    <tr style=\"text-align: right;\">\n",
       "      <th></th>\n",
       "      <th>order_id</th>\n",
       "      <th>customer_id</th>\n",
       "      <th>order_status</th>\n",
       "      <th>order_purchase_timestamp</th>\n",
       "      <th>order_approved_at</th>\n",
       "      <th>order_delivered_carrier_date</th>\n",
       "      <th>order_delivered_customer_date</th>\n",
       "      <th>order_estimated_delivery_date</th>\n",
       "    </tr>\n",
       "  </thead>\n",
       "  <tbody>\n",
       "    <tr>\n",
       "      <th>0</th>\n",
       "      <td>e481f51cbdc54678b7cc49136f2d6af7</td>\n",
       "      <td>9ef432eb6251297304e76186b10a928d</td>\n",
       "      <td>delivered</td>\n",
       "      <td>2017-10-02 10:56:33</td>\n",
       "      <td>2017-10-02 11:07:15</td>\n",
       "      <td>2017-10-04 19:55:00</td>\n",
       "      <td>2017-10-10 21:25:13</td>\n",
       "      <td>2017-10-18 00:00:00</td>\n",
       "    </tr>\n",
       "    <tr>\n",
       "      <th>1</th>\n",
       "      <td>53cdb2fc8bc7dce0b6741e2150273451</td>\n",
       "      <td>b0830fb4747a6c6d20dea0b8c802d7ef</td>\n",
       "      <td>delivered</td>\n",
       "      <td>2018-07-24 20:41:37</td>\n",
       "      <td>2018-07-26 03:24:27</td>\n",
       "      <td>2018-07-26 14:31:00</td>\n",
       "      <td>2018-08-07 15:27:45</td>\n",
       "      <td>2018-08-13 00:00:00</td>\n",
       "    </tr>\n",
       "    <tr>\n",
       "      <th>2</th>\n",
       "      <td>47770eb9100c2d0c44946d9cf07ec65d</td>\n",
       "      <td>41ce2a54c0b03bf3443c3d931a367089</td>\n",
       "      <td>delivered</td>\n",
       "      <td>2018-08-08 08:38:49</td>\n",
       "      <td>2018-08-08 08:55:23</td>\n",
       "      <td>2018-08-08 13:50:00</td>\n",
       "      <td>2018-08-17 18:06:29</td>\n",
       "      <td>2018-09-04 00:00:00</td>\n",
       "    </tr>\n",
       "    <tr>\n",
       "      <th>3</th>\n",
       "      <td>949d5b44dbf5de918fe9c16f97b45f8a</td>\n",
       "      <td>f88197465ea7920adcdbec7375364d82</td>\n",
       "      <td>delivered</td>\n",
       "      <td>2017-11-18 19:28:06</td>\n",
       "      <td>2017-11-18 19:45:59</td>\n",
       "      <td>2017-11-22 13:39:59</td>\n",
       "      <td>2017-12-02 00:28:42</td>\n",
       "      <td>2017-12-15 00:00:00</td>\n",
       "    </tr>\n",
       "    <tr>\n",
       "      <th>4</th>\n",
       "      <td>ad21c59c0840e6cb83a9ceb5573f8159</td>\n",
       "      <td>8ab97904e6daea8866dbdbc4fb7aad2c</td>\n",
       "      <td>delivered</td>\n",
       "      <td>2018-02-13 21:18:39</td>\n",
       "      <td>2018-02-13 22:20:29</td>\n",
       "      <td>2018-02-14 19:46:34</td>\n",
       "      <td>2018-02-16 18:17:02</td>\n",
       "      <td>2018-02-26 00:00:00</td>\n",
       "    </tr>\n",
       "    <tr>\n",
       "      <th>...</th>\n",
       "      <td>...</td>\n",
       "      <td>...</td>\n",
       "      <td>...</td>\n",
       "      <td>...</td>\n",
       "      <td>...</td>\n",
       "      <td>...</td>\n",
       "      <td>...</td>\n",
       "      <td>...</td>\n",
       "    </tr>\n",
       "    <tr>\n",
       "      <th>99436</th>\n",
       "      <td>9c5dedf39a927c1b2549525ed64a053c</td>\n",
       "      <td>39bd1228ee8140590ac3aca26f2dfe00</td>\n",
       "      <td>delivered</td>\n",
       "      <td>2017-03-09 09:54:05</td>\n",
       "      <td>2017-03-09 09:54:05</td>\n",
       "      <td>2017-03-10 11:18:03</td>\n",
       "      <td>2017-03-17 15:08:01</td>\n",
       "      <td>2017-03-28 00:00:00</td>\n",
       "    </tr>\n",
       "    <tr>\n",
       "      <th>99437</th>\n",
       "      <td>63943bddc261676b46f01ca7ac2f7bd8</td>\n",
       "      <td>1fca14ff2861355f6e5f14306ff977a7</td>\n",
       "      <td>delivered</td>\n",
       "      <td>2018-02-06 12:58:58</td>\n",
       "      <td>2018-02-06 13:10:37</td>\n",
       "      <td>2018-02-07 23:22:42</td>\n",
       "      <td>2018-02-28 17:37:56</td>\n",
       "      <td>2018-03-02 00:00:00</td>\n",
       "    </tr>\n",
       "    <tr>\n",
       "      <th>99438</th>\n",
       "      <td>83c1379a015df1e13d02aae0204711ab</td>\n",
       "      <td>1aa71eb042121263aafbe80c1b562c9c</td>\n",
       "      <td>delivered</td>\n",
       "      <td>2017-08-27 14:46:43</td>\n",
       "      <td>2017-08-27 15:04:16</td>\n",
       "      <td>2017-08-28 20:52:26</td>\n",
       "      <td>2017-09-21 11:24:17</td>\n",
       "      <td>2017-09-27 00:00:00</td>\n",
       "    </tr>\n",
       "    <tr>\n",
       "      <th>99439</th>\n",
       "      <td>11c177c8e97725db2631073c19f07b62</td>\n",
       "      <td>b331b74b18dc79bcdf6532d51e1637c1</td>\n",
       "      <td>delivered</td>\n",
       "      <td>2018-01-08 21:28:27</td>\n",
       "      <td>2018-01-08 21:36:21</td>\n",
       "      <td>2018-01-12 15:35:03</td>\n",
       "      <td>2018-01-25 23:32:54</td>\n",
       "      <td>2018-02-15 00:00:00</td>\n",
       "    </tr>\n",
       "    <tr>\n",
       "      <th>99440</th>\n",
       "      <td>66dea50a8b16d9b4dee7af250b4be1a5</td>\n",
       "      <td>edb027a75a1449115f6b43211ae02a24</td>\n",
       "      <td>delivered</td>\n",
       "      <td>2018-03-08 20:57:30</td>\n",
       "      <td>2018-03-09 11:20:28</td>\n",
       "      <td>2018-03-09 22:11:59</td>\n",
       "      <td>2018-03-16 13:08:30</td>\n",
       "      <td>2018-04-03 00:00:00</td>\n",
       "    </tr>\n",
       "  </tbody>\n",
       "</table>\n",
       "<p>99441 rows × 8 columns</p>\n",
       "</div>"
      ],
      "text/plain": [
       "                               order_id                       customer_id  \\\n",
       "0      e481f51cbdc54678b7cc49136f2d6af7  9ef432eb6251297304e76186b10a928d   \n",
       "1      53cdb2fc8bc7dce0b6741e2150273451  b0830fb4747a6c6d20dea0b8c802d7ef   \n",
       "2      47770eb9100c2d0c44946d9cf07ec65d  41ce2a54c0b03bf3443c3d931a367089   \n",
       "3      949d5b44dbf5de918fe9c16f97b45f8a  f88197465ea7920adcdbec7375364d82   \n",
       "4      ad21c59c0840e6cb83a9ceb5573f8159  8ab97904e6daea8866dbdbc4fb7aad2c   \n",
       "...                                 ...                               ...   \n",
       "99436  9c5dedf39a927c1b2549525ed64a053c  39bd1228ee8140590ac3aca26f2dfe00   \n",
       "99437  63943bddc261676b46f01ca7ac2f7bd8  1fca14ff2861355f6e5f14306ff977a7   \n",
       "99438  83c1379a015df1e13d02aae0204711ab  1aa71eb042121263aafbe80c1b562c9c   \n",
       "99439  11c177c8e97725db2631073c19f07b62  b331b74b18dc79bcdf6532d51e1637c1   \n",
       "99440  66dea50a8b16d9b4dee7af250b4be1a5  edb027a75a1449115f6b43211ae02a24   \n",
       "\n",
       "      order_status order_purchase_timestamp    order_approved_at  \\\n",
       "0        delivered      2017-10-02 10:56:33  2017-10-02 11:07:15   \n",
       "1        delivered      2018-07-24 20:41:37  2018-07-26 03:24:27   \n",
       "2        delivered      2018-08-08 08:38:49  2018-08-08 08:55:23   \n",
       "3        delivered      2017-11-18 19:28:06  2017-11-18 19:45:59   \n",
       "4        delivered      2018-02-13 21:18:39  2018-02-13 22:20:29   \n",
       "...            ...                      ...                  ...   \n",
       "99436    delivered      2017-03-09 09:54:05  2017-03-09 09:54:05   \n",
       "99437    delivered      2018-02-06 12:58:58  2018-02-06 13:10:37   \n",
       "99438    delivered      2017-08-27 14:46:43  2017-08-27 15:04:16   \n",
       "99439    delivered      2018-01-08 21:28:27  2018-01-08 21:36:21   \n",
       "99440    delivered      2018-03-08 20:57:30  2018-03-09 11:20:28   \n",
       "\n",
       "      order_delivered_carrier_date order_delivered_customer_date  \\\n",
       "0              2017-10-04 19:55:00           2017-10-10 21:25:13   \n",
       "1              2018-07-26 14:31:00           2018-08-07 15:27:45   \n",
       "2              2018-08-08 13:50:00           2018-08-17 18:06:29   \n",
       "3              2017-11-22 13:39:59           2017-12-02 00:28:42   \n",
       "4              2018-02-14 19:46:34           2018-02-16 18:17:02   \n",
       "...                            ...                           ...   \n",
       "99436          2017-03-10 11:18:03           2017-03-17 15:08:01   \n",
       "99437          2018-02-07 23:22:42           2018-02-28 17:37:56   \n",
       "99438          2017-08-28 20:52:26           2017-09-21 11:24:17   \n",
       "99439          2018-01-12 15:35:03           2018-01-25 23:32:54   \n",
       "99440          2018-03-09 22:11:59           2018-03-16 13:08:30   \n",
       "\n",
       "      order_estimated_delivery_date  \n",
       "0               2017-10-18 00:00:00  \n",
       "1               2018-08-13 00:00:00  \n",
       "2               2018-09-04 00:00:00  \n",
       "3               2017-12-15 00:00:00  \n",
       "4               2018-02-26 00:00:00  \n",
       "...                             ...  \n",
       "99436           2017-03-28 00:00:00  \n",
       "99437           2018-03-02 00:00:00  \n",
       "99438           2017-09-27 00:00:00  \n",
       "99439           2018-02-15 00:00:00  \n",
       "99440           2018-04-03 00:00:00  \n",
       "\n",
       "[99441 rows x 8 columns]"
      ]
     },
     "execution_count": 6,
     "metadata": {},
     "output_type": "execute_result"
    },
    {
     "name": "stdout",
     "output_type": "stream",
     "text": [
      "time: 6.28 s (started: 2024-05-06 10:05:20 -03:00)\n"
     ]
    }
   ],
   "source": [
    "#Importar dataset como Dataframe y previsualizamos\n",
    "df_orders = pd.read_csv(loc_orders)\n",
    "df_orders"
   ]
  },
  {
   "cell_type": "markdown",
   "metadata": {
    "id": "hVeeTnbG_LAe"
   },
   "source": [
    "### Order items"
   ]
  },
  {
   "cell_type": "code",
   "execution_count": 7,
   "metadata": {
    "colab": {
     "base_uri": "https://localhost:8080/",
     "height": 226
    },
    "id": "wN3teXqCqIJh",
    "outputId": "ec542baf-11d5-4ebb-8566-eebeda96461d"
   },
   "outputs": [
    {
     "data": {
      "text/html": [
       "<div>\n",
       "<style scoped>\n",
       "    .dataframe tbody tr th:only-of-type {\n",
       "        vertical-align: middle;\n",
       "    }\n",
       "\n",
       "    .dataframe tbody tr th {\n",
       "        vertical-align: top;\n",
       "    }\n",
       "\n",
       "    .dataframe thead th {\n",
       "        text-align: right;\n",
       "    }\n",
       "</style>\n",
       "<table border=\"1\" class=\"dataframe\">\n",
       "  <thead>\n",
       "    <tr style=\"text-align: right;\">\n",
       "      <th></th>\n",
       "      <th>order_id</th>\n",
       "      <th>order_item_id</th>\n",
       "      <th>product_id</th>\n",
       "      <th>seller_id</th>\n",
       "      <th>shipping_limit_date</th>\n",
       "      <th>price</th>\n",
       "      <th>freight_value</th>\n",
       "    </tr>\n",
       "  </thead>\n",
       "  <tbody>\n",
       "    <tr>\n",
       "      <th>0</th>\n",
       "      <td>00010242fe8c5a6d1ba2dd792cb16214</td>\n",
       "      <td>1</td>\n",
       "      <td>4244733e06e7ecb4970a6e2683c13e61</td>\n",
       "      <td>48436dade18ac8b2bce089ec2a041202</td>\n",
       "      <td>2017-09-19 09:45:35</td>\n",
       "      <td>58.90</td>\n",
       "      <td>13.29</td>\n",
       "    </tr>\n",
       "    <tr>\n",
       "      <th>1</th>\n",
       "      <td>00018f77f2f0320c557190d7a144bdd3</td>\n",
       "      <td>1</td>\n",
       "      <td>e5f2d52b802189ee658865ca93d83a8f</td>\n",
       "      <td>dd7ddc04e1b6c2c614352b383efe2d36</td>\n",
       "      <td>2017-05-03 11:05:13</td>\n",
       "      <td>239.90</td>\n",
       "      <td>19.93</td>\n",
       "    </tr>\n",
       "    <tr>\n",
       "      <th>2</th>\n",
       "      <td>000229ec398224ef6ca0657da4fc703e</td>\n",
       "      <td>1</td>\n",
       "      <td>c777355d18b72b67abbeef9df44fd0fd</td>\n",
       "      <td>5b51032eddd242adc84c38acab88f23d</td>\n",
       "      <td>2018-01-18 14:48:30</td>\n",
       "      <td>199.00</td>\n",
       "      <td>17.87</td>\n",
       "    </tr>\n",
       "    <tr>\n",
       "      <th>3</th>\n",
       "      <td>00024acbcdf0a6daa1e931b038114c75</td>\n",
       "      <td>1</td>\n",
       "      <td>7634da152a4610f1595efa32f14722fc</td>\n",
       "      <td>9d7a1d34a5052409006425275ba1c2b4</td>\n",
       "      <td>2018-08-15 10:10:18</td>\n",
       "      <td>12.99</td>\n",
       "      <td>12.79</td>\n",
       "    </tr>\n",
       "    <tr>\n",
       "      <th>4</th>\n",
       "      <td>00042b26cf59d7ce69dfabb4e55b4fd9</td>\n",
       "      <td>1</td>\n",
       "      <td>ac6c3623068f30de03045865e4e10089</td>\n",
       "      <td>df560393f3a51e74553ab94004ba5c87</td>\n",
       "      <td>2017-02-13 13:57:51</td>\n",
       "      <td>199.90</td>\n",
       "      <td>18.14</td>\n",
       "    </tr>\n",
       "    <tr>\n",
       "      <th>...</th>\n",
       "      <td>...</td>\n",
       "      <td>...</td>\n",
       "      <td>...</td>\n",
       "      <td>...</td>\n",
       "      <td>...</td>\n",
       "      <td>...</td>\n",
       "      <td>...</td>\n",
       "    </tr>\n",
       "    <tr>\n",
       "      <th>112645</th>\n",
       "      <td>fffc94f6ce00a00581880bf54a75a037</td>\n",
       "      <td>1</td>\n",
       "      <td>4aa6014eceb682077f9dc4bffebc05b0</td>\n",
       "      <td>b8bc237ba3788b23da09c0f1f3a3288c</td>\n",
       "      <td>2018-05-02 04:11:01</td>\n",
       "      <td>299.99</td>\n",
       "      <td>43.41</td>\n",
       "    </tr>\n",
       "    <tr>\n",
       "      <th>112646</th>\n",
       "      <td>fffcd46ef2263f404302a634eb57f7eb</td>\n",
       "      <td>1</td>\n",
       "      <td>32e07fd915822b0765e448c4dd74c828</td>\n",
       "      <td>f3c38ab652836d21de61fb8314b69182</td>\n",
       "      <td>2018-07-20 04:31:48</td>\n",
       "      <td>350.00</td>\n",
       "      <td>36.53</td>\n",
       "    </tr>\n",
       "    <tr>\n",
       "      <th>112647</th>\n",
       "      <td>fffce4705a9662cd70adb13d4a31832d</td>\n",
       "      <td>1</td>\n",
       "      <td>72a30483855e2eafc67aee5dc2560482</td>\n",
       "      <td>c3cfdc648177fdbbbb35635a37472c53</td>\n",
       "      <td>2017-10-30 17:14:25</td>\n",
       "      <td>99.90</td>\n",
       "      <td>16.95</td>\n",
       "    </tr>\n",
       "    <tr>\n",
       "      <th>112648</th>\n",
       "      <td>fffe18544ffabc95dfada21779c9644f</td>\n",
       "      <td>1</td>\n",
       "      <td>9c422a519119dcad7575db5af1ba540e</td>\n",
       "      <td>2b3e4a2a3ea8e01938cabda2a3e5cc79</td>\n",
       "      <td>2017-08-21 00:04:32</td>\n",
       "      <td>55.99</td>\n",
       "      <td>8.72</td>\n",
       "    </tr>\n",
       "    <tr>\n",
       "      <th>112649</th>\n",
       "      <td>fffe41c64501cc87c801fd61db3f6244</td>\n",
       "      <td>1</td>\n",
       "      <td>350688d9dc1e75ff97be326363655e01</td>\n",
       "      <td>f7ccf836d21b2fb1de37564105216cc1</td>\n",
       "      <td>2018-06-12 17:10:13</td>\n",
       "      <td>43.00</td>\n",
       "      <td>12.79</td>\n",
       "    </tr>\n",
       "  </tbody>\n",
       "</table>\n",
       "<p>112650 rows × 7 columns</p>\n",
       "</div>"
      ],
      "text/plain": [
       "                                order_id  order_item_id  \\\n",
       "0       00010242fe8c5a6d1ba2dd792cb16214              1   \n",
       "1       00018f77f2f0320c557190d7a144bdd3              1   \n",
       "2       000229ec398224ef6ca0657da4fc703e              1   \n",
       "3       00024acbcdf0a6daa1e931b038114c75              1   \n",
       "4       00042b26cf59d7ce69dfabb4e55b4fd9              1   \n",
       "...                                  ...            ...   \n",
       "112645  fffc94f6ce00a00581880bf54a75a037              1   \n",
       "112646  fffcd46ef2263f404302a634eb57f7eb              1   \n",
       "112647  fffce4705a9662cd70adb13d4a31832d              1   \n",
       "112648  fffe18544ffabc95dfada21779c9644f              1   \n",
       "112649  fffe41c64501cc87c801fd61db3f6244              1   \n",
       "\n",
       "                              product_id                         seller_id  \\\n",
       "0       4244733e06e7ecb4970a6e2683c13e61  48436dade18ac8b2bce089ec2a041202   \n",
       "1       e5f2d52b802189ee658865ca93d83a8f  dd7ddc04e1b6c2c614352b383efe2d36   \n",
       "2       c777355d18b72b67abbeef9df44fd0fd  5b51032eddd242adc84c38acab88f23d   \n",
       "3       7634da152a4610f1595efa32f14722fc  9d7a1d34a5052409006425275ba1c2b4   \n",
       "4       ac6c3623068f30de03045865e4e10089  df560393f3a51e74553ab94004ba5c87   \n",
       "...                                  ...                               ...   \n",
       "112645  4aa6014eceb682077f9dc4bffebc05b0  b8bc237ba3788b23da09c0f1f3a3288c   \n",
       "112646  32e07fd915822b0765e448c4dd74c828  f3c38ab652836d21de61fb8314b69182   \n",
       "112647  72a30483855e2eafc67aee5dc2560482  c3cfdc648177fdbbbb35635a37472c53   \n",
       "112648  9c422a519119dcad7575db5af1ba540e  2b3e4a2a3ea8e01938cabda2a3e5cc79   \n",
       "112649  350688d9dc1e75ff97be326363655e01  f7ccf836d21b2fb1de37564105216cc1   \n",
       "\n",
       "        shipping_limit_date   price  freight_value  \n",
       "0       2017-09-19 09:45:35   58.90          13.29  \n",
       "1       2017-05-03 11:05:13  239.90          19.93  \n",
       "2       2018-01-18 14:48:30  199.00          17.87  \n",
       "3       2018-08-15 10:10:18   12.99          12.79  \n",
       "4       2017-02-13 13:57:51  199.90          18.14  \n",
       "...                     ...     ...            ...  \n",
       "112645  2018-05-02 04:11:01  299.99          43.41  \n",
       "112646  2018-07-20 04:31:48  350.00          36.53  \n",
       "112647  2017-10-30 17:14:25   99.90          16.95  \n",
       "112648  2017-08-21 00:04:32   55.99           8.72  \n",
       "112649  2018-06-12 17:10:13   43.00          12.79  \n",
       "\n",
       "[112650 rows x 7 columns]"
      ]
     },
     "execution_count": 7,
     "metadata": {},
     "output_type": "execute_result"
    },
    {
     "name": "stdout",
     "output_type": "stream",
     "text": [
      "time: 6.22 s (started: 2024-05-06 10:05:26 -03:00)\n"
     ]
    }
   ],
   "source": [
    "#Importar dataset como Dataframe y previsualizamos\n",
    "df_order_items = pd.read_csv(loc_orders_items)\n",
    "df_order_items"
   ]
  },
  {
   "cell_type": "markdown",
   "metadata": {
    "id": "o6a0yW2p_PhB"
   },
   "source": [
    "### Products"
   ]
  },
  {
   "cell_type": "code",
   "execution_count": 8,
   "metadata": {
    "colab": {
     "base_uri": "https://localhost:8080/",
     "height": 226
    },
    "id": "YK6xWvdxrflv",
    "outputId": "f671a01e-f445-46ce-9dc0-f0cea67dc803"
   },
   "outputs": [
    {
     "data": {
      "text/html": [
       "<div>\n",
       "<style scoped>\n",
       "    .dataframe tbody tr th:only-of-type {\n",
       "        vertical-align: middle;\n",
       "    }\n",
       "\n",
       "    .dataframe tbody tr th {\n",
       "        vertical-align: top;\n",
       "    }\n",
       "\n",
       "    .dataframe thead th {\n",
       "        text-align: right;\n",
       "    }\n",
       "</style>\n",
       "<table border=\"1\" class=\"dataframe\">\n",
       "  <thead>\n",
       "    <tr style=\"text-align: right;\">\n",
       "      <th></th>\n",
       "      <th>product_id</th>\n",
       "      <th>product_category_name</th>\n",
       "      <th>product_name_lenght</th>\n",
       "      <th>product_description_lenght</th>\n",
       "      <th>product_photos_qty</th>\n",
       "      <th>product_weight_g</th>\n",
       "      <th>product_length_cm</th>\n",
       "      <th>product_height_cm</th>\n",
       "      <th>product_width_cm</th>\n",
       "    </tr>\n",
       "  </thead>\n",
       "  <tbody>\n",
       "    <tr>\n",
       "      <th>0</th>\n",
       "      <td>1e9e8ef04dbcff4541ed26657ea517e5</td>\n",
       "      <td>perfumaria</td>\n",
       "      <td>40.0</td>\n",
       "      <td>287.0</td>\n",
       "      <td>1.0</td>\n",
       "      <td>225.0</td>\n",
       "      <td>16.0</td>\n",
       "      <td>10.0</td>\n",
       "      <td>14.0</td>\n",
       "    </tr>\n",
       "    <tr>\n",
       "      <th>1</th>\n",
       "      <td>3aa071139cb16b67ca9e5dea641aaa2f</td>\n",
       "      <td>artes</td>\n",
       "      <td>44.0</td>\n",
       "      <td>276.0</td>\n",
       "      <td>1.0</td>\n",
       "      <td>1000.0</td>\n",
       "      <td>30.0</td>\n",
       "      <td>18.0</td>\n",
       "      <td>20.0</td>\n",
       "    </tr>\n",
       "    <tr>\n",
       "      <th>2</th>\n",
       "      <td>96bd76ec8810374ed1b65e291975717f</td>\n",
       "      <td>esporte_lazer</td>\n",
       "      <td>46.0</td>\n",
       "      <td>250.0</td>\n",
       "      <td>1.0</td>\n",
       "      <td>154.0</td>\n",
       "      <td>18.0</td>\n",
       "      <td>9.0</td>\n",
       "      <td>15.0</td>\n",
       "    </tr>\n",
       "    <tr>\n",
       "      <th>3</th>\n",
       "      <td>cef67bcfe19066a932b7673e239eb23d</td>\n",
       "      <td>bebes</td>\n",
       "      <td>27.0</td>\n",
       "      <td>261.0</td>\n",
       "      <td>1.0</td>\n",
       "      <td>371.0</td>\n",
       "      <td>26.0</td>\n",
       "      <td>4.0</td>\n",
       "      <td>26.0</td>\n",
       "    </tr>\n",
       "    <tr>\n",
       "      <th>4</th>\n",
       "      <td>9dc1a7de274444849c219cff195d0b71</td>\n",
       "      <td>utilidades_domesticas</td>\n",
       "      <td>37.0</td>\n",
       "      <td>402.0</td>\n",
       "      <td>4.0</td>\n",
       "      <td>625.0</td>\n",
       "      <td>20.0</td>\n",
       "      <td>17.0</td>\n",
       "      <td>13.0</td>\n",
       "    </tr>\n",
       "    <tr>\n",
       "      <th>...</th>\n",
       "      <td>...</td>\n",
       "      <td>...</td>\n",
       "      <td>...</td>\n",
       "      <td>...</td>\n",
       "      <td>...</td>\n",
       "      <td>...</td>\n",
       "      <td>...</td>\n",
       "      <td>...</td>\n",
       "      <td>...</td>\n",
       "    </tr>\n",
       "    <tr>\n",
       "      <th>32946</th>\n",
       "      <td>a0b7d5a992ccda646f2d34e418fff5a0</td>\n",
       "      <td>moveis_decoracao</td>\n",
       "      <td>45.0</td>\n",
       "      <td>67.0</td>\n",
       "      <td>2.0</td>\n",
       "      <td>12300.0</td>\n",
       "      <td>40.0</td>\n",
       "      <td>40.0</td>\n",
       "      <td>40.0</td>\n",
       "    </tr>\n",
       "    <tr>\n",
       "      <th>32947</th>\n",
       "      <td>bf4538d88321d0fd4412a93c974510e6</td>\n",
       "      <td>construcao_ferramentas_iluminacao</td>\n",
       "      <td>41.0</td>\n",
       "      <td>971.0</td>\n",
       "      <td>1.0</td>\n",
       "      <td>1700.0</td>\n",
       "      <td>16.0</td>\n",
       "      <td>19.0</td>\n",
       "      <td>16.0</td>\n",
       "    </tr>\n",
       "    <tr>\n",
       "      <th>32948</th>\n",
       "      <td>9a7c6041fa9592d9d9ef6cfe62a71f8c</td>\n",
       "      <td>cama_mesa_banho</td>\n",
       "      <td>50.0</td>\n",
       "      <td>799.0</td>\n",
       "      <td>1.0</td>\n",
       "      <td>1400.0</td>\n",
       "      <td>27.0</td>\n",
       "      <td>7.0</td>\n",
       "      <td>27.0</td>\n",
       "    </tr>\n",
       "    <tr>\n",
       "      <th>32949</th>\n",
       "      <td>83808703fc0706a22e264b9d75f04a2e</td>\n",
       "      <td>informatica_acessorios</td>\n",
       "      <td>60.0</td>\n",
       "      <td>156.0</td>\n",
       "      <td>2.0</td>\n",
       "      <td>700.0</td>\n",
       "      <td>31.0</td>\n",
       "      <td>13.0</td>\n",
       "      <td>20.0</td>\n",
       "    </tr>\n",
       "    <tr>\n",
       "      <th>32950</th>\n",
       "      <td>106392145fca363410d287a815be6de4</td>\n",
       "      <td>cama_mesa_banho</td>\n",
       "      <td>58.0</td>\n",
       "      <td>309.0</td>\n",
       "      <td>1.0</td>\n",
       "      <td>2083.0</td>\n",
       "      <td>12.0</td>\n",
       "      <td>2.0</td>\n",
       "      <td>7.0</td>\n",
       "    </tr>\n",
       "  </tbody>\n",
       "</table>\n",
       "<p>32951 rows × 9 columns</p>\n",
       "</div>"
      ],
      "text/plain": [
       "                             product_id              product_category_name  \\\n",
       "0      1e9e8ef04dbcff4541ed26657ea517e5                         perfumaria   \n",
       "1      3aa071139cb16b67ca9e5dea641aaa2f                              artes   \n",
       "2      96bd76ec8810374ed1b65e291975717f                      esporte_lazer   \n",
       "3      cef67bcfe19066a932b7673e239eb23d                              bebes   \n",
       "4      9dc1a7de274444849c219cff195d0b71              utilidades_domesticas   \n",
       "...                                 ...                                ...   \n",
       "32946  a0b7d5a992ccda646f2d34e418fff5a0                   moveis_decoracao   \n",
       "32947  bf4538d88321d0fd4412a93c974510e6  construcao_ferramentas_iluminacao   \n",
       "32948  9a7c6041fa9592d9d9ef6cfe62a71f8c                    cama_mesa_banho   \n",
       "32949  83808703fc0706a22e264b9d75f04a2e             informatica_acessorios   \n",
       "32950  106392145fca363410d287a815be6de4                    cama_mesa_banho   \n",
       "\n",
       "       product_name_lenght  product_description_lenght  product_photos_qty  \\\n",
       "0                     40.0                       287.0                 1.0   \n",
       "1                     44.0                       276.0                 1.0   \n",
       "2                     46.0                       250.0                 1.0   \n",
       "3                     27.0                       261.0                 1.0   \n",
       "4                     37.0                       402.0                 4.0   \n",
       "...                    ...                         ...                 ...   \n",
       "32946                 45.0                        67.0                 2.0   \n",
       "32947                 41.0                       971.0                 1.0   \n",
       "32948                 50.0                       799.0                 1.0   \n",
       "32949                 60.0                       156.0                 2.0   \n",
       "32950                 58.0                       309.0                 1.0   \n",
       "\n",
       "       product_weight_g  product_length_cm  product_height_cm  \\\n",
       "0                 225.0               16.0               10.0   \n",
       "1                1000.0               30.0               18.0   \n",
       "2                 154.0               18.0                9.0   \n",
       "3                 371.0               26.0                4.0   \n",
       "4                 625.0               20.0               17.0   \n",
       "...                 ...                ...                ...   \n",
       "32946           12300.0               40.0               40.0   \n",
       "32947            1700.0               16.0               19.0   \n",
       "32948            1400.0               27.0                7.0   \n",
       "32949             700.0               31.0               13.0   \n",
       "32950            2083.0               12.0                2.0   \n",
       "\n",
       "       product_width_cm  \n",
       "0                  14.0  \n",
       "1                  20.0  \n",
       "2                  15.0  \n",
       "3                  26.0  \n",
       "4                  13.0  \n",
       "...                 ...  \n",
       "32946              40.0  \n",
       "32947              16.0  \n",
       "32948              27.0  \n",
       "32949              20.0  \n",
       "32950               7.0  \n",
       "\n",
       "[32951 rows x 9 columns]"
      ]
     },
     "execution_count": 8,
     "metadata": {},
     "output_type": "execute_result"
    },
    {
     "name": "stdout",
     "output_type": "stream",
     "text": [
      "time: 1.64 s (started: 2024-05-06 10:05:32 -03:00)\n"
     ]
    }
   ],
   "source": [
    "#Importar dataset como Dataframe y previsualizamos\n",
    "df_products = pd.read_csv(loc_products)\n",
    "df_products"
   ]
  },
  {
   "cell_type": "markdown",
   "metadata": {
    "id": "q6I4C-v8_SHA"
   },
   "source": [
    "### Customers"
   ]
  },
  {
   "cell_type": "code",
   "execution_count": 9,
   "metadata": {
    "colab": {
     "base_uri": "https://localhost:8080/",
     "height": 206
    },
    "id": "N_Yuc6hGpQUr",
    "outputId": "3f8dba08-ebf9-4596-e512-16af4aeca0b1"
   },
   "outputs": [
    {
     "data": {
      "text/html": [
       "<div>\n",
       "<style scoped>\n",
       "    .dataframe tbody tr th:only-of-type {\n",
       "        vertical-align: middle;\n",
       "    }\n",
       "\n",
       "    .dataframe tbody tr th {\n",
       "        vertical-align: top;\n",
       "    }\n",
       "\n",
       "    .dataframe thead th {\n",
       "        text-align: right;\n",
       "    }\n",
       "</style>\n",
       "<table border=\"1\" class=\"dataframe\">\n",
       "  <thead>\n",
       "    <tr style=\"text-align: right;\">\n",
       "      <th></th>\n",
       "      <th>customer_id</th>\n",
       "      <th>customer_unique_id</th>\n",
       "      <th>customer_zip_code_prefix</th>\n",
       "      <th>customer_city</th>\n",
       "      <th>customer_state</th>\n",
       "    </tr>\n",
       "  </thead>\n",
       "  <tbody>\n",
       "    <tr>\n",
       "      <th>0</th>\n",
       "      <td>06b8999e2fba1a1fbc88172c00ba8bc7</td>\n",
       "      <td>861eff4711a542e4b93843c6dd7febb0</td>\n",
       "      <td>14409</td>\n",
       "      <td>franca</td>\n",
       "      <td>SP</td>\n",
       "    </tr>\n",
       "    <tr>\n",
       "      <th>1</th>\n",
       "      <td>18955e83d337fd6b2def6b18a428ac77</td>\n",
       "      <td>290c77bc529b7ac935b93aa66c333dc3</td>\n",
       "      <td>9790</td>\n",
       "      <td>sao bernardo do campo</td>\n",
       "      <td>SP</td>\n",
       "    </tr>\n",
       "    <tr>\n",
       "      <th>2</th>\n",
       "      <td>4e7b3e00288586ebd08712fdd0374a03</td>\n",
       "      <td>060e732b5b29e8181a18229c7b0b2b5e</td>\n",
       "      <td>1151</td>\n",
       "      <td>sao paulo</td>\n",
       "      <td>SP</td>\n",
       "    </tr>\n",
       "    <tr>\n",
       "      <th>3</th>\n",
       "      <td>b2b6027bc5c5109e529d4dc6358b12c3</td>\n",
       "      <td>259dac757896d24d7702b9acbbff3f3c</td>\n",
       "      <td>8775</td>\n",
       "      <td>mogi das cruzes</td>\n",
       "      <td>SP</td>\n",
       "    </tr>\n",
       "    <tr>\n",
       "      <th>4</th>\n",
       "      <td>4f2d8ab171c80ec8364f7c12e35b23ad</td>\n",
       "      <td>345ecd01c38d18a9036ed96c73b8d066</td>\n",
       "      <td>13056</td>\n",
       "      <td>campinas</td>\n",
       "      <td>SP</td>\n",
       "    </tr>\n",
       "    <tr>\n",
       "      <th>...</th>\n",
       "      <td>...</td>\n",
       "      <td>...</td>\n",
       "      <td>...</td>\n",
       "      <td>...</td>\n",
       "      <td>...</td>\n",
       "    </tr>\n",
       "    <tr>\n",
       "      <th>99436</th>\n",
       "      <td>17ddf5dd5d51696bb3d7c6291687be6f</td>\n",
       "      <td>1a29b476fee25c95fbafc67c5ac95cf8</td>\n",
       "      <td>3937</td>\n",
       "      <td>sao paulo</td>\n",
       "      <td>SP</td>\n",
       "    </tr>\n",
       "    <tr>\n",
       "      <th>99437</th>\n",
       "      <td>e7b71a9017aa05c9a7fd292d714858e8</td>\n",
       "      <td>d52a67c98be1cf6a5c84435bd38d095d</td>\n",
       "      <td>6764</td>\n",
       "      <td>taboao da serra</td>\n",
       "      <td>SP</td>\n",
       "    </tr>\n",
       "    <tr>\n",
       "      <th>99438</th>\n",
       "      <td>5e28dfe12db7fb50a4b2f691faecea5e</td>\n",
       "      <td>e9f50caf99f032f0bf3c55141f019d99</td>\n",
       "      <td>60115</td>\n",
       "      <td>fortaleza</td>\n",
       "      <td>CE</td>\n",
       "    </tr>\n",
       "    <tr>\n",
       "      <th>99439</th>\n",
       "      <td>56b18e2166679b8a959d72dd06da27f9</td>\n",
       "      <td>73c2643a0a458b49f58cea58833b192e</td>\n",
       "      <td>92120</td>\n",
       "      <td>canoas</td>\n",
       "      <td>RS</td>\n",
       "    </tr>\n",
       "    <tr>\n",
       "      <th>99440</th>\n",
       "      <td>274fa6071e5e17fe303b9748641082c8</td>\n",
       "      <td>84732c5050c01db9b23e19ba39899398</td>\n",
       "      <td>6703</td>\n",
       "      <td>cotia</td>\n",
       "      <td>SP</td>\n",
       "    </tr>\n",
       "  </tbody>\n",
       "</table>\n",
       "<p>99441 rows × 5 columns</p>\n",
       "</div>"
      ],
      "text/plain": [
       "                            customer_id                customer_unique_id  \\\n",
       "0      06b8999e2fba1a1fbc88172c00ba8bc7  861eff4711a542e4b93843c6dd7febb0   \n",
       "1      18955e83d337fd6b2def6b18a428ac77  290c77bc529b7ac935b93aa66c333dc3   \n",
       "2      4e7b3e00288586ebd08712fdd0374a03  060e732b5b29e8181a18229c7b0b2b5e   \n",
       "3      b2b6027bc5c5109e529d4dc6358b12c3  259dac757896d24d7702b9acbbff3f3c   \n",
       "4      4f2d8ab171c80ec8364f7c12e35b23ad  345ecd01c38d18a9036ed96c73b8d066   \n",
       "...                                 ...                               ...   \n",
       "99436  17ddf5dd5d51696bb3d7c6291687be6f  1a29b476fee25c95fbafc67c5ac95cf8   \n",
       "99437  e7b71a9017aa05c9a7fd292d714858e8  d52a67c98be1cf6a5c84435bd38d095d   \n",
       "99438  5e28dfe12db7fb50a4b2f691faecea5e  e9f50caf99f032f0bf3c55141f019d99   \n",
       "99439  56b18e2166679b8a959d72dd06da27f9  73c2643a0a458b49f58cea58833b192e   \n",
       "99440  274fa6071e5e17fe303b9748641082c8  84732c5050c01db9b23e19ba39899398   \n",
       "\n",
       "       customer_zip_code_prefix          customer_city customer_state  \n",
       "0                         14409                 franca             SP  \n",
       "1                          9790  sao bernardo do campo             SP  \n",
       "2                          1151              sao paulo             SP  \n",
       "3                          8775        mogi das cruzes             SP  \n",
       "4                         13056               campinas             SP  \n",
       "...                         ...                    ...            ...  \n",
       "99436                      3937              sao paulo             SP  \n",
       "99437                      6764        taboao da serra             SP  \n",
       "99438                     60115              fortaleza             CE  \n",
       "99439                     92120                 canoas             RS  \n",
       "99440                      6703                  cotia             SP  \n",
       "\n",
       "[99441 rows x 5 columns]"
      ]
     },
     "execution_count": 9,
     "metadata": {},
     "output_type": "execute_result"
    },
    {
     "name": "stdout",
     "output_type": "stream",
     "text": [
      "time: 5.12 s (started: 2024-05-06 10:05:34 -03:00)\n"
     ]
    }
   ],
   "source": [
    "#Importar dataset como Dataframe y previsualizamos\n",
    "df_customers = pd.read_csv(loc_customers)\n",
    "df_customers"
   ]
  },
  {
   "cell_type": "markdown",
   "metadata": {
    "id": "IkR5mIr-_Ug_"
   },
   "source": [
    "### Payments"
   ]
  },
  {
   "cell_type": "code",
   "execution_count": 10,
   "metadata": {
    "colab": {
     "base_uri": "https://localhost:8080/",
     "height": 206
    },
    "id": "j9JZ64LoqbSy",
    "outputId": "3e2466c7-43f3-4753-e30e-c676408f53ac"
   },
   "outputs": [
    {
     "data": {
      "text/html": [
       "<div>\n",
       "<style scoped>\n",
       "    .dataframe tbody tr th:only-of-type {\n",
       "        vertical-align: middle;\n",
       "    }\n",
       "\n",
       "    .dataframe tbody tr th {\n",
       "        vertical-align: top;\n",
       "    }\n",
       "\n",
       "    .dataframe thead th {\n",
       "        text-align: right;\n",
       "    }\n",
       "</style>\n",
       "<table border=\"1\" class=\"dataframe\">\n",
       "  <thead>\n",
       "    <tr style=\"text-align: right;\">\n",
       "      <th></th>\n",
       "      <th>order_id</th>\n",
       "      <th>payment_sequential</th>\n",
       "      <th>payment_type</th>\n",
       "      <th>payment_installments</th>\n",
       "      <th>payment_value</th>\n",
       "    </tr>\n",
       "  </thead>\n",
       "  <tbody>\n",
       "    <tr>\n",
       "      <th>0</th>\n",
       "      <td>b81ef226f3fe1789b1e8b2acac839d17</td>\n",
       "      <td>1</td>\n",
       "      <td>credit_card</td>\n",
       "      <td>8</td>\n",
       "      <td>99.33</td>\n",
       "    </tr>\n",
       "    <tr>\n",
       "      <th>1</th>\n",
       "      <td>a9810da82917af2d9aefd1278f1dcfa0</td>\n",
       "      <td>1</td>\n",
       "      <td>credit_card</td>\n",
       "      <td>1</td>\n",
       "      <td>24.39</td>\n",
       "    </tr>\n",
       "    <tr>\n",
       "      <th>2</th>\n",
       "      <td>25e8ea4e93396b6fa0d3dd708e76c1bd</td>\n",
       "      <td>1</td>\n",
       "      <td>credit_card</td>\n",
       "      <td>1</td>\n",
       "      <td>65.71</td>\n",
       "    </tr>\n",
       "    <tr>\n",
       "      <th>3</th>\n",
       "      <td>ba78997921bbcdc1373bb41e913ab953</td>\n",
       "      <td>1</td>\n",
       "      <td>credit_card</td>\n",
       "      <td>8</td>\n",
       "      <td>107.78</td>\n",
       "    </tr>\n",
       "    <tr>\n",
       "      <th>4</th>\n",
       "      <td>42fdf880ba16b47b59251dd489d4441a</td>\n",
       "      <td>1</td>\n",
       "      <td>credit_card</td>\n",
       "      <td>2</td>\n",
       "      <td>128.45</td>\n",
       "    </tr>\n",
       "    <tr>\n",
       "      <th>...</th>\n",
       "      <td>...</td>\n",
       "      <td>...</td>\n",
       "      <td>...</td>\n",
       "      <td>...</td>\n",
       "      <td>...</td>\n",
       "    </tr>\n",
       "    <tr>\n",
       "      <th>103881</th>\n",
       "      <td>0406037ad97740d563a178ecc7a2075c</td>\n",
       "      <td>1</td>\n",
       "      <td>boleto</td>\n",
       "      <td>1</td>\n",
       "      <td>363.31</td>\n",
       "    </tr>\n",
       "    <tr>\n",
       "      <th>103882</th>\n",
       "      <td>7b905861d7c825891d6347454ea7863f</td>\n",
       "      <td>1</td>\n",
       "      <td>credit_card</td>\n",
       "      <td>2</td>\n",
       "      <td>96.80</td>\n",
       "    </tr>\n",
       "    <tr>\n",
       "      <th>103883</th>\n",
       "      <td>32609bbb3dd69b3c066a6860554a77bf</td>\n",
       "      <td>1</td>\n",
       "      <td>credit_card</td>\n",
       "      <td>1</td>\n",
       "      <td>47.77</td>\n",
       "    </tr>\n",
       "    <tr>\n",
       "      <th>103884</th>\n",
       "      <td>b8b61059626efa996a60be9bb9320e10</td>\n",
       "      <td>1</td>\n",
       "      <td>credit_card</td>\n",
       "      <td>5</td>\n",
       "      <td>369.54</td>\n",
       "    </tr>\n",
       "    <tr>\n",
       "      <th>103885</th>\n",
       "      <td>28bbae6599b09d39ca406b747b6632b1</td>\n",
       "      <td>1</td>\n",
       "      <td>boleto</td>\n",
       "      <td>1</td>\n",
       "      <td>191.58</td>\n",
       "    </tr>\n",
       "  </tbody>\n",
       "</table>\n",
       "<p>103886 rows × 5 columns</p>\n",
       "</div>"
      ],
      "text/plain": [
       "                                order_id  payment_sequential payment_type  \\\n",
       "0       b81ef226f3fe1789b1e8b2acac839d17                   1  credit_card   \n",
       "1       a9810da82917af2d9aefd1278f1dcfa0                   1  credit_card   \n",
       "2       25e8ea4e93396b6fa0d3dd708e76c1bd                   1  credit_card   \n",
       "3       ba78997921bbcdc1373bb41e913ab953                   1  credit_card   \n",
       "4       42fdf880ba16b47b59251dd489d4441a                   1  credit_card   \n",
       "...                                  ...                 ...          ...   \n",
       "103881  0406037ad97740d563a178ecc7a2075c                   1       boleto   \n",
       "103882  7b905861d7c825891d6347454ea7863f                   1  credit_card   \n",
       "103883  32609bbb3dd69b3c066a6860554a77bf                   1  credit_card   \n",
       "103884  b8b61059626efa996a60be9bb9320e10                   1  credit_card   \n",
       "103885  28bbae6599b09d39ca406b747b6632b1                   1       boleto   \n",
       "\n",
       "        payment_installments  payment_value  \n",
       "0                          8          99.33  \n",
       "1                          1          24.39  \n",
       "2                          1          65.71  \n",
       "3                          8         107.78  \n",
       "4                          2         128.45  \n",
       "...                      ...            ...  \n",
       "103881                     1         363.31  \n",
       "103882                     2          96.80  \n",
       "103883                     1          47.77  \n",
       "103884                     5         369.54  \n",
       "103885                     1         191.58  \n",
       "\n",
       "[103886 rows x 5 columns]"
      ]
     },
     "execution_count": 10,
     "metadata": {},
     "output_type": "execute_result"
    },
    {
     "name": "stdout",
     "output_type": "stream",
     "text": [
      "time: 2.42 s (started: 2024-05-06 10:05:39 -03:00)\n"
     ]
    }
   ],
   "source": [
    "#Importar dataset como Dataframe y previsualizamos\n",
    "df_payments = pd.read_csv(loc_payments)\n",
    "df_payments"
   ]
  },
  {
   "cell_type": "markdown",
   "metadata": {
    "id": "5oxdgy1qrxdS"
   },
   "source": [
    "## DATOS DATAFRAME\n",
    "\n",
    "Ahora es momento de analizar como se componen cada uno de los DataFrame, saber cual es su tamaño, ver que tipo de datos tienen ademas de conocer la cantidad de nulos y duplicados."
   ]
  },
  {
   "cell_type": "markdown",
   "metadata": {},
   "source": [
    "### Funcion nulos"
   ]
  },
  {
   "cell_type": "code",
   "execution_count": 11,
   "metadata": {},
   "outputs": [
    {
     "name": "stdout",
     "output_type": "stream",
     "text": [
      "time: 0 ns (started: 2024-05-06 10:05:41 -03:00)\n"
     ]
    }
   ],
   "source": [
    "# Con esta funcion podemos crear una tabla que nos muestre la cantidad de valores nulos y su porcentaje del total de datos\n",
    "def nulos(df):\n",
    "    # Calcular la cantidad de valores nulos por columna\n",
    "    nulos_por_columna = df.isna().sum()\n",
    "    \n",
    "    # Calcular el porcentaje de valores nulos por columna\n",
    "    porcentaje_nulos_por_columna = round(df.isna().sum() / len(df) * 100, 2)\n",
    "    \n",
    "    # Crear un DataFrame para almacenar los resultados\n",
    "    tabla_nulos = pd.DataFrame({'Nulos': nulos_por_columna, 'Porcentaje de Nulos': porcentaje_nulos_por_columna})\n",
    "    \n",
    "    print(tabla_nulos)\n"
   ]
  },
  {
   "cell_type": "markdown",
   "metadata": {
    "id": "7sBbyKcwvBv4"
   },
   "source": [
    "### Funcion datosDataFrame"
   ]
  },
  {
   "cell_type": "code",
   "execution_count": 12,
   "metadata": {
    "id": "F6LvT6s5r6bT"
   },
   "outputs": [
    {
     "name": "stdout",
     "output_type": "stream",
     "text": [
      "time: 0 ns (started: 2024-05-06 10:05:41 -03:00)\n"
     ]
    }
   ],
   "source": [
    "def datosDataFrame(df):\n",
    "    separador = \"=\" * 60\n",
    "    \n",
    "    print(f\"{separador}\")  # Imprime una línea separadora\n",
    "    print(\"Tamaño DataFrame\\n\")  # Muestra el tamaño del DataFrame\n",
    "    print(df.shape)  # Tamaño del dataframe\n",
    "    print(f\"{separador}\")  # Imprime una línea separadora\n",
    "    \n",
    "    print(f\"{separador}\")  # Imprime una línea separadora\n",
    "    print(\"Análisis tipo de datos\\n\")  # Muestra información sobre los tipos de datos en el DataFrame\n",
    "    print(df.info())  # Tipos de datos\n",
    "    print(f\"{separador}\")  # Imprime una línea separadora\n",
    "    \n",
    "    print(f\"{separador}\")  # Imprime una línea separadora\n",
    "    print(\"Recuento de nulos y su porcentaje\\n\")  # Muestra el número de valores nulos en cada columna del DataFrame y su porcentaje\n",
    "    nulos(df)  # Análisis de nulos\n",
    "    print(f\"{separador}\")  # Imprime una línea separadora\n",
    "\n",
    "    print(f\"{separador}\")  # Imprime una línea separadora\n",
    "    print(\"Recuento de duplicados\\n\")  # Muestra el número de filas duplicadas en el DataFrame\n",
    "    print(df.duplicated().sum())  # Análisis duplicados\n",
    "    print(f\"{separador}\")  # Imprime una línea separadora\n"
   ]
  },
  {
   "cell_type": "markdown",
   "metadata": {
    "id": "kK25wcM2vmuB"
   },
   "source": [
    "### Orders"
   ]
  },
  {
   "cell_type": "code",
   "execution_count": 13,
   "metadata": {
    "colab": {
     "base_uri": "https://localhost:8080/"
    },
    "id": "B6toX8jbugGP",
    "outputId": "af2be830-db00-4041-c597-4602782399e0"
   },
   "outputs": [
    {
     "name": "stdout",
     "output_type": "stream",
     "text": [
      "============================================================\n",
      "Tamaño DataFrame\n",
      "\n",
      "(99441, 8)\n",
      "============================================================\n",
      "============================================================\n",
      "Análisis tipo de datos\n",
      "\n",
      "<class 'pandas.core.frame.DataFrame'>\n",
      "RangeIndex: 99441 entries, 0 to 99440\n",
      "Data columns (total 8 columns):\n",
      " #   Column                         Non-Null Count  Dtype \n",
      "---  ------                         --------------  ----- \n",
      " 0   order_id                       99441 non-null  object\n",
      " 1   customer_id                    99441 non-null  object\n",
      " 2   order_status                   99441 non-null  object\n",
      " 3   order_purchase_timestamp       99441 non-null  object\n",
      " 4   order_approved_at              99281 non-null  object\n",
      " 5   order_delivered_carrier_date   97658 non-null  object\n",
      " 6   order_delivered_customer_date  96476 non-null  object\n",
      " 7   order_estimated_delivery_date  99441 non-null  object\n",
      "dtypes: object(8)\n",
      "memory usage: 6.1+ MB\n",
      "None\n",
      "============================================================\n",
      "============================================================\n",
      "Recuento de nulos y su porcentaje\n",
      "\n",
      "                               Nulos  Porcentaje de Nulos\n",
      "order_id                           0                 0.00\n",
      "customer_id                        0                 0.00\n",
      "order_status                       0                 0.00\n",
      "order_purchase_timestamp           0                 0.00\n",
      "order_approved_at                160                 0.16\n",
      "order_delivered_carrier_date    1783                 1.79\n",
      "order_delivered_customer_date   2965                 2.98\n",
      "order_estimated_delivery_date      0                 0.00\n",
      "============================================================\n",
      "============================================================\n",
      "Recuento de duplicados\n",
      "\n",
      "0\n",
      "============================================================\n",
      "time: 203 ms (started: 2024-05-06 10:05:41 -03:00)\n"
     ]
    }
   ],
   "source": [
    "#Aplicamos la función\n",
    "datosDataFrame(df_orders)"
   ]
  },
  {
   "cell_type": "markdown",
   "metadata": {
    "id": "VUaNF9EyvbxP"
   },
   "source": [
    "### Order items"
   ]
  },
  {
   "cell_type": "code",
   "execution_count": 14,
   "metadata": {
    "colab": {
     "base_uri": "https://localhost:8080/"
    },
    "id": "tppz_a7PuQoT",
    "outputId": "3bfdeee4-01a6-444f-d986-cade57e0bae8"
   },
   "outputs": [
    {
     "name": "stdout",
     "output_type": "stream",
     "text": [
      "============================================================\n",
      "Tamaño DataFrame\n",
      "\n",
      "(112650, 7)\n",
      "============================================================\n",
      "============================================================\n",
      "Análisis tipo de datos\n",
      "\n",
      "<class 'pandas.core.frame.DataFrame'>\n",
      "RangeIndex: 112650 entries, 0 to 112649\n",
      "Data columns (total 7 columns):\n",
      " #   Column               Non-Null Count   Dtype  \n",
      "---  ------               --------------   -----  \n",
      " 0   order_id             112650 non-null  object \n",
      " 1   order_item_id        112650 non-null  int64  \n",
      " 2   product_id           112650 non-null  object \n",
      " 3   seller_id            112650 non-null  object \n",
      " 4   shipping_limit_date  112650 non-null  object \n",
      " 5   price                112650 non-null  float64\n",
      " 6   freight_value        112650 non-null  float64\n",
      "dtypes: float64(2), int64(1), object(4)\n",
      "memory usage: 6.0+ MB\n",
      "None\n",
      "============================================================\n",
      "============================================================\n",
      "Recuento de nulos y su porcentaje\n",
      "\n",
      "                     Nulos  Porcentaje de Nulos\n",
      "order_id                 0                  0.0\n",
      "order_item_id            0                  0.0\n",
      "product_id               0                  0.0\n",
      "seller_id                0                  0.0\n",
      "shipping_limit_date      0                  0.0\n",
      "price                    0                  0.0\n",
      "freight_value            0                  0.0\n",
      "============================================================\n",
      "============================================================\n",
      "Recuento de duplicados\n",
      "\n",
      "0\n",
      "============================================================\n",
      "time: 125 ms (started: 2024-05-06 10:05:41 -03:00)\n"
     ]
    }
   ],
   "source": [
    "#Aplicamos la función\n",
    "datosDataFrame(df_order_items)"
   ]
  },
  {
   "cell_type": "markdown",
   "metadata": {
    "id": "NOHtz71evpa1"
   },
   "source": [
    "### Products"
   ]
  },
  {
   "cell_type": "code",
   "execution_count": 15,
   "metadata": {
    "colab": {
     "base_uri": "https://localhost:8080/"
    },
    "id": "knEDwbSHulL2",
    "outputId": "fcf252f8-2991-4e6f-be32-a09aa2513eb9"
   },
   "outputs": [
    {
     "name": "stdout",
     "output_type": "stream",
     "text": [
      "============================================================\n",
      "Tamaño DataFrame\n",
      "\n",
      "(32951, 9)\n",
      "============================================================\n",
      "============================================================\n",
      "Análisis tipo de datos\n",
      "\n",
      "<class 'pandas.core.frame.DataFrame'>\n",
      "RangeIndex: 32951 entries, 0 to 32950\n",
      "Data columns (total 9 columns):\n",
      " #   Column                      Non-Null Count  Dtype  \n",
      "---  ------                      --------------  -----  \n",
      " 0   product_id                  32951 non-null  object \n",
      " 1   product_category_name       32341 non-null  object \n",
      " 2   product_name_lenght         32341 non-null  float64\n",
      " 3   product_description_lenght  32341 non-null  float64\n",
      " 4   product_photos_qty          32341 non-null  float64\n",
      " 5   product_weight_g            32949 non-null  float64\n",
      " 6   product_length_cm           32949 non-null  float64\n",
      " 7   product_height_cm           32949 non-null  float64\n",
      " 8   product_width_cm            32949 non-null  float64\n",
      "dtypes: float64(7), object(2)\n",
      "memory usage: 2.3+ MB\n",
      "None\n",
      "============================================================\n",
      "============================================================\n",
      "Recuento de nulos y su porcentaje\n",
      "\n",
      "                            Nulos  Porcentaje de Nulos\n",
      "product_id                      0                 0.00\n",
      "product_category_name         610                 1.85\n",
      "product_name_lenght           610                 1.85\n",
      "product_description_lenght    610                 1.85\n",
      "product_photos_qty            610                 1.85\n",
      "product_weight_g                2                 0.01\n",
      "product_length_cm               2                 0.01\n",
      "product_height_cm               2                 0.01\n",
      "product_width_cm                2                 0.01\n",
      "============================================================\n",
      "============================================================\n",
      "Recuento de duplicados\n",
      "\n",
      "0\n",
      "============================================================\n",
      "time: 16 ms (started: 2024-05-06 10:05:42 -03:00)\n"
     ]
    }
   ],
   "source": [
    "#Aplicamos la función\n",
    "datosDataFrame(df_products)"
   ]
  },
  {
   "cell_type": "markdown",
   "metadata": {
    "id": "xYbiNSfVvXxV"
   },
   "source": [
    "### Customers"
   ]
  },
  {
   "cell_type": "code",
   "execution_count": 16,
   "metadata": {
    "colab": {
     "base_uri": "https://localhost:8080/"
    },
    "id": "ACoL8Gi6t0OF",
    "outputId": "d26dc5cf-cb4a-4765-badd-a9c0028bc86f"
   },
   "outputs": [
    {
     "name": "stdout",
     "output_type": "stream",
     "text": [
      "============================================================\n",
      "Tamaño DataFrame\n",
      "\n",
      "(99441, 5)\n",
      "============================================================\n",
      "============================================================\n",
      "Análisis tipo de datos\n",
      "\n",
      "<class 'pandas.core.frame.DataFrame'>\n",
      "RangeIndex: 99441 entries, 0 to 99440\n",
      "Data columns (total 5 columns):\n",
      " #   Column                    Non-Null Count  Dtype \n",
      "---  ------                    --------------  ----- \n",
      " 0   customer_id               99441 non-null  object\n",
      " 1   customer_unique_id        99441 non-null  object\n",
      " 2   customer_zip_code_prefix  99441 non-null  int64 \n",
      " 3   customer_city             99441 non-null  object\n",
      " 4   customer_state            99441 non-null  object\n",
      "dtypes: int64(1), object(4)\n",
      "memory usage: 3.8+ MB\n",
      "None\n",
      "============================================================\n",
      "============================================================\n",
      "Recuento de nulos y su porcentaje\n",
      "\n",
      "                          Nulos  Porcentaje de Nulos\n",
      "customer_id                   0                  0.0\n",
      "customer_unique_id            0                  0.0\n",
      "customer_zip_code_prefix      0                  0.0\n",
      "customer_city                 0                  0.0\n",
      "customer_state                0                  0.0\n",
      "============================================================\n",
      "============================================================\n",
      "Recuento de duplicados\n",
      "\n",
      "0\n",
      "============================================================\n",
      "time: 94 ms (started: 2024-05-06 10:05:42 -03:00)\n"
     ]
    }
   ],
   "source": [
    "#Aplicamos la función\n",
    "datosDataFrame(df_customers)"
   ]
  },
  {
   "cell_type": "markdown",
   "metadata": {
    "id": "NM_333G0vkJV"
   },
   "source": [
    "### Payments"
   ]
  },
  {
   "cell_type": "code",
   "execution_count": 17,
   "metadata": {
    "colab": {
     "base_uri": "https://localhost:8080/"
    },
    "id": "8jRuL6oeuzLz",
    "outputId": "a0ee98c3-0be0-474a-c9b2-b967d7872414"
   },
   "outputs": [
    {
     "name": "stdout",
     "output_type": "stream",
     "text": [
      "============================================================\n",
      "Tamaño DataFrame\n",
      "\n",
      "(103886, 5)\n",
      "============================================================\n",
      "============================================================\n",
      "Análisis tipo de datos\n",
      "\n",
      "<class 'pandas.core.frame.DataFrame'>\n",
      "RangeIndex: 103886 entries, 0 to 103885\n",
      "Data columns (total 5 columns):\n",
      " #   Column                Non-Null Count   Dtype  \n",
      "---  ------                --------------   -----  \n",
      " 0   order_id              103886 non-null  object \n",
      " 1   payment_sequential    103886 non-null  int64  \n",
      " 2   payment_type          103886 non-null  object \n",
      " 3   payment_installments  103886 non-null  int64  \n",
      " 4   payment_value         103886 non-null  float64\n",
      "dtypes: float64(1), int64(2), object(2)\n",
      "memory usage: 4.0+ MB\n",
      "None\n",
      "============================================================\n",
      "============================================================\n",
      "Recuento de nulos y su porcentaje\n",
      "\n",
      "                      Nulos  Porcentaje de Nulos\n",
      "order_id                  0                  0.0\n",
      "payment_sequential        0                  0.0\n",
      "payment_type              0                  0.0\n",
      "payment_installments      0                  0.0\n",
      "payment_value             0                  0.0\n",
      "============================================================\n",
      "============================================================\n",
      "Recuento de duplicados\n",
      "\n",
      "0\n",
      "============================================================\n",
      "time: 78 ms (started: 2024-05-06 10:05:42 -03:00)\n"
     ]
    }
   ],
   "source": [
    "#Aplicamos la función\n",
    "datosDataFrame(df_payments)"
   ]
  },
  {
   "cell_type": "markdown",
   "metadata": {
    "id": "ENJk9HKM9Cd8"
   },
   "source": [
    "## TRANSFORMACION DATAFRAMES\n",
    "\n",
    "Para asegurar que nuestro analisis no tenga problemas a futuro es importante transformar los tipos de datos, ademas de asegurarse que los datos sean homogeneos.\n",
    "\n",
    "En aquellos dataframe que hay nulos si la proporcion de nulos no es muy grande es factible eliminar dichas filas."
   ]
  },
  {
   "cell_type": "markdown",
   "metadata": {
    "id": "7_opYRZr9y8-"
   },
   "source": [
    "### Funcion transformar_fechas"
   ]
  },
  {
   "cell_type": "code",
   "execution_count": 18,
   "metadata": {
    "id": "HSIwfKmE9yex"
   },
   "outputs": [
    {
     "name": "stdout",
     "output_type": "stream",
     "text": [
      "time: 0 ns (started: 2024-05-06 10:05:42 -03:00)\n"
     ]
    }
   ],
   "source": [
    "#Definimos nuestra función transformar_fechas\n",
    "def transformar_fechas(df, columnas_fechas): #Los parametros son el dataframe y la lista con las columnas a transformar\n",
    "    \n",
    "    df[columnas_fechas] = df[columnas_fechas].apply(pd.to_datetime) #Transforma las columnas de columnas_fechas a datetime\n",
    "    \n",
    "    return df"
   ]
  },
  {
   "cell_type": "markdown",
   "metadata": {
    "id": "HroKG384NW5B"
   },
   "source": [
    "### Funcion transformar_string"
   ]
  },
  {
   "cell_type": "code",
   "execution_count": 19,
   "metadata": {
    "id": "wexBHiN_NV2t"
   },
   "outputs": [
    {
     "name": "stdout",
     "output_type": "stream",
     "text": [
      "time: 0 ns (started: 2024-05-06 10:05:42 -03:00)\n"
     ]
    }
   ],
   "source": [
    "#Definimos nuestra función transformar_string\n",
    "\n",
    "def transformar_string(df, columnas_string): #Los parametros son el dataframe y la lista con las columnas a transformar\n",
    "    for columna in columnas_string: #Transforma las columnas en columnas_string a string\n",
    "        df[columna] = df[columna].astype(\"string\")\n",
    "    return df"
   ]
  },
  {
   "cell_type": "markdown",
   "metadata": {
    "id": "0PNqVWmdGpn-"
   },
   "source": [
    "### Funcion convertir_mayusculas"
   ]
  },
  {
   "cell_type": "code",
   "execution_count": 20,
   "metadata": {
    "id": "Ai-Lui6UGpUb"
   },
   "outputs": [
    {
     "name": "stdout",
     "output_type": "stream",
     "text": [
      "time: 0 ns (started: 2024-05-06 10:05:42 -03:00)\n"
     ]
    }
   ],
   "source": [
    "#Definimos nuestra función convertir_mayusculas\n",
    "\n",
    "def convertir_mayusculas(df, columna): #Los parametros son el dataframe y la lista con las columna a transformar\n",
    "    \n",
    "    df[columna] = df[columna].str.upper() # Convertir todos los valores de la columna a mayusculas\n",
    "    \n",
    "    return df"
   ]
  },
  {
   "cell_type": "markdown",
   "metadata": {
    "id": "c5bRsoIjF59T"
   },
   "source": [
    "### Funcion convertir_minusculas"
   ]
  },
  {
   "cell_type": "code",
   "execution_count": 21,
   "metadata": {
    "id": "0QYgdwMsF7va"
   },
   "outputs": [
    {
     "name": "stdout",
     "output_type": "stream",
     "text": [
      "time: 16 ms (started: 2024-05-06 10:05:42 -03:00)\n"
     ]
    }
   ],
   "source": [
    "#Definimos nuestra funcion convertir_minusculas\n",
    "\n",
    "def convertir_minusculas(df, columna): #Los parametros son el dataframe y la lista con las columna a transformar\n",
    "   \n",
    "    df[columna] = df[columna].str.lower() # Convertir todos los valores de la columna a minúsculas\n",
    "    \n",
    "    return df"
   ]
  },
  {
   "cell_type": "markdown",
   "metadata": {},
   "source": [
    "### Funcion nulos_eliminar"
   ]
  },
  {
   "cell_type": "code",
   "execution_count": 22,
   "metadata": {},
   "outputs": [
    {
     "name": "stdout",
     "output_type": "stream",
     "text": [
      "time: 0 ns (started: 2024-05-06 10:05:42 -03:00)\n"
     ]
    }
   ],
   "source": [
    "def nulos_eliminar(df):\n",
    "    \n",
    "    print(separador)\n",
    "    # Porcentaje de nulos en cada columna\n",
    "    null_percentages = round((df.isnull().sum() / len(df)) * 100,2)\n",
    "\n",
    "    #Veamos cual es el % de nulos\n",
    "    print(null_percentages)\n",
    "\n",
    "    # Filtramos las columnas con menos del 10% de valores nulos\n",
    "    columns_to_keep = null_percentages[null_percentages <= 10].index\n",
    "\n",
    "    # Veamos las columnas que cumplen dicha condicion\n",
    "    print(separador)\n",
    "    print(\"Columnas con menos del 10% de valores nulos\")\n",
    "    print()\n",
    "    for columna in columns_to_keep:\n",
    "        print(columna)\n",
    "  \n",
    "    # Eliminamos las filas con nulos solo en las columnas seleccionadas\n",
    "    \n",
    "    df.dropna(subset=columns_to_keep, inplace=True)\n",
    "    \n",
    "    #Chequeo cantidad de null\n",
    "    print(separador)\n",
    "    nulos(df)\n",
    "        "
   ]
  },
  {
   "cell_type": "markdown",
   "metadata": {
    "id": "a7yjvB389SCf"
   },
   "source": [
    "### Orders"
   ]
  },
  {
   "cell_type": "code",
   "execution_count": 23,
   "metadata": {},
   "outputs": [
    {
     "name": "stdout",
     "output_type": "stream",
     "text": [
      "============================================================\n",
      "order_id                         0.00\n",
      "customer_id                      0.00\n",
      "order_status                     0.00\n",
      "order_purchase_timestamp         0.00\n",
      "order_approved_at                0.16\n",
      "order_delivered_carrier_date     1.79\n",
      "order_delivered_customer_date    2.98\n",
      "order_estimated_delivery_date    0.00\n",
      "dtype: float64\n",
      "============================================================\n",
      "Columnas con menos del 10% de valores nulos\n",
      "\n",
      "order_id\n",
      "customer_id\n",
      "order_status\n",
      "order_purchase_timestamp\n",
      "order_approved_at\n",
      "order_delivered_carrier_date\n",
      "order_delivered_customer_date\n",
      "order_estimated_delivery_date\n",
      "============================================================\n",
      "                               Nulos  Porcentaje de Nulos\n",
      "order_id                           0                  0.0\n",
      "customer_id                        0                  0.0\n",
      "order_status                       0                  0.0\n",
      "order_purchase_timestamp           0                  0.0\n",
      "order_approved_at                  0                  0.0\n",
      "order_delivered_carrier_date       0                  0.0\n",
      "order_delivered_customer_date      0                  0.0\n",
      "order_estimated_delivery_date      0                  0.0\n",
      "time: 125 ms (started: 2024-05-06 10:05:42 -03:00)\n"
     ]
    }
   ],
   "source": [
    "nulos_eliminar(df_orders)"
   ]
  },
  {
   "cell_type": "code",
   "execution_count": 24,
   "metadata": {
    "id": "jbwcDdqe9qmj"
   },
   "outputs": [
    {
     "name": "stdout",
     "output_type": "stream",
     "text": [
      "time: 266 ms (started: 2024-05-06 10:05:42 -03:00)\n"
     ]
    }
   ],
   "source": [
    "# Lista de columnas que contienen fechas\n",
    "columnas_fechas_orders = ['order_purchase_timestamp', 'order_approved_at',\n",
    "                          'order_delivered_carrier_date', 'order_delivered_customer_date',\n",
    "                          'order_estimated_delivery_date']\n",
    "\n",
    "#Aplicamos nuestra funcion conversora de fechas\n",
    "df_orders = transformar_fechas(df_orders, columnas_fechas_orders)"
   ]
  },
  {
   "cell_type": "code",
   "execution_count": 25,
   "metadata": {
    "id": "lbRFpZVhNxb2"
   },
   "outputs": [
    {
     "name": "stdout",
     "output_type": "stream",
     "text": [
      "time: 16 ms (started: 2024-05-06 10:05:42 -03:00)\n"
     ]
    }
   ],
   "source": [
    "# Lista de columnas a transfomar en string\n",
    "columnas_string_orders = [\"order_id\",\"customer_id\",\"order_status\"]\n",
    "\n",
    "# Seleccionar columnas que pertenecen a la lista\n",
    "columnas_filtradas = df_orders.columns[df_orders.columns.isin(columnas_string_orders)]\n",
    "\n",
    "# Crear un nuevo DataFrame con las columnas filtradas\n",
    "#df_filtrado = df_orders[columnas_filtradas]\n",
    "df_filtrado = df_orders.loc[:, columnas_filtradas]\n",
    "\n",
    "\n",
    "# Mostrar el DataFrame filtrado\n",
    "#df_filtrado\n",
    "\n",
    "#Aplicamos nuestra funcion conversora de string\n",
    "df_orders = transformar_string(df_orders, columnas_string_orders)"
   ]
  },
  {
   "cell_type": "code",
   "execution_count": 26,
   "metadata": {
    "colab": {
     "base_uri": "https://localhost:8080/"
    },
    "id": "jK6MEvEfQoYY",
    "outputId": "850285f0-0bb4-4c0b-e46e-e42f4b3f5774"
   },
   "outputs": [
    {
     "name": "stdout",
     "output_type": "stream",
     "text": [
      "<class 'pandas.core.frame.DataFrame'>\n",
      "Index: 96461 entries, 0 to 99440\n",
      "Data columns (total 8 columns):\n",
      " #   Column                         Non-Null Count  Dtype         \n",
      "---  ------                         --------------  -----         \n",
      " 0   order_id                       96461 non-null  string        \n",
      " 1   customer_id                    96461 non-null  string        \n",
      " 2   order_status                   96461 non-null  string        \n",
      " 3   order_purchase_timestamp       96461 non-null  datetime64[ns]\n",
      " 4   order_approved_at              96461 non-null  datetime64[ns]\n",
      " 5   order_delivered_carrier_date   96461 non-null  datetime64[ns]\n",
      " 6   order_delivered_customer_date  96461 non-null  datetime64[ns]\n",
      " 7   order_estimated_delivery_date  96461 non-null  datetime64[ns]\n",
      "dtypes: datetime64[ns](5), string(3)\n",
      "memory usage: 6.6 MB\n",
      "time: 0 ns (started: 2024-05-06 10:05:42 -03:00)\n"
     ]
    }
   ],
   "source": [
    "#Revisamos que los tipos de datos sean correctos\n",
    "df_orders.info()"
   ]
  },
  {
   "cell_type": "code",
   "execution_count": 27,
   "metadata": {
    "id": "jiLWeWNtG8tg"
   },
   "outputs": [
    {
     "name": "stdout",
     "output_type": "stream",
     "text": [
      "time: 16 ms (started: 2024-05-06 10:05:42 -03:00)\n"
     ]
    }
   ],
   "source": [
    "#Aplicamos la conversion a minusculas\n",
    "df_orders = convertir_minusculas(df_orders, \"order_status\")"
   ]
  },
  {
   "cell_type": "markdown",
   "metadata": {
    "id": "w7iuy4iA--xP"
   },
   "source": [
    "### Order items"
   ]
  },
  {
   "cell_type": "code",
   "execution_count": 28,
   "metadata": {
    "id": "PDW_R9hp_Bc_"
   },
   "outputs": [
    {
     "name": "stdout",
     "output_type": "stream",
     "text": [
      "time: 78 ms (started: 2024-05-06 10:05:42 -03:00)\n"
     ]
    }
   ],
   "source": [
    "# Lista de columnas que contienen fechas\n",
    "columnas_fechas_order_items = ['shipping_limit_date']\n",
    "\n",
    "#Aplicamos nuestra funcion conversora de fechas\n",
    "df_order_items = transformar_fechas(df_order_items, columnas_fechas_order_items)"
   ]
  },
  {
   "cell_type": "code",
   "execution_count": 29,
   "metadata": {
    "id": "oYgs8C_8PQ4o"
   },
   "outputs": [
    {
     "name": "stdout",
     "output_type": "stream",
     "text": [
      "time: 63 ms (started: 2024-05-06 10:05:42 -03:00)\n"
     ]
    }
   ],
   "source": [
    "# Lista de columnas a transfomar en string\n",
    "columnas_string_order_items = [\"order_id\",\"order_item_id\",\"product_id\",\"seller_id\"]\n",
    "\n",
    "#Aplicamos nuestra funcion conversora de string\n",
    "df_order_items = transformar_string(df_order_items, columnas_string_order_items)"
   ]
  },
  {
   "cell_type": "markdown",
   "metadata": {
    "id": "dlC4ChfA_wS-"
   },
   "source": [
    "### Products"
   ]
  },
  {
   "cell_type": "code",
   "execution_count": 30,
   "metadata": {
    "colab": {
     "base_uri": "https://localhost:8080/"
    },
    "id": "XQgAnA6-_zl-",
    "outputId": "eac6215c-085d-4304-a572-d285ee0d2bba"
   },
   "outputs": [
    {
     "name": "stdout",
     "output_type": "stream",
     "text": [
      "============================================================\n",
      "product_id                    0.00\n",
      "product_category_name         1.85\n",
      "product_name_lenght           1.85\n",
      "product_description_lenght    1.85\n",
      "product_photos_qty            1.85\n",
      "product_weight_g              0.01\n",
      "product_length_cm             0.01\n",
      "product_height_cm             0.01\n",
      "product_width_cm              0.01\n",
      "dtype: float64\n",
      "============================================================\n",
      "Columnas con menos del 10% de valores nulos\n",
      "\n",
      "product_id\n",
      "product_category_name\n",
      "product_name_lenght\n",
      "product_description_lenght\n",
      "product_photos_qty\n",
      "product_weight_g\n",
      "product_length_cm\n",
      "product_height_cm\n",
      "product_width_cm\n",
      "============================================================\n",
      "                            Nulos  Porcentaje de Nulos\n",
      "product_id                      0                  0.0\n",
      "product_category_name           0                  0.0\n",
      "product_name_lenght             0                  0.0\n",
      "product_description_lenght      0                  0.0\n",
      "product_photos_qty              0                  0.0\n",
      "product_weight_g                0                  0.0\n",
      "product_length_cm               0                  0.0\n",
      "product_height_cm               0                  0.0\n",
      "product_width_cm                0                  0.0\n",
      "time: 15 ms (started: 2024-05-06 10:05:42 -03:00)\n"
     ]
    }
   ],
   "source": [
    "nulos_eliminar(df_products)"
   ]
  },
  {
   "cell_type": "code",
   "execution_count": 31,
   "metadata": {
    "id": "85k3XxigOJRo"
   },
   "outputs": [
    {
     "name": "stdout",
     "output_type": "stream",
     "text": [
      "time: 16 ms (started: 2024-05-06 10:05:43 -03:00)\n"
     ]
    }
   ],
   "source": [
    "# Lista de columnas a transfomar en string\n",
    "columnas_string_products = [\"product_id\",\"product_category_name\"]\n",
    "\n",
    "#Aplicamos nuestra funcion conversora de string\n",
    "df_products = transformar_string(df_products, columnas_string_products)"
   ]
  },
  {
   "cell_type": "code",
   "execution_count": 32,
   "metadata": {
    "colab": {
     "base_uri": "https://localhost:8080/"
    },
    "id": "LAzzjhJDVpp6",
    "outputId": "6286b619-3757-4926-8097-a4164dddded1"
   },
   "outputs": [
    {
     "name": "stdout",
     "output_type": "stream",
     "text": [
      "<class 'pandas.core.frame.DataFrame'>\n",
      "Index: 32340 entries, 0 to 32950\n",
      "Data columns (total 9 columns):\n",
      " #   Column                      Non-Null Count  Dtype  \n",
      "---  ------                      --------------  -----  \n",
      " 0   product_id                  32340 non-null  string \n",
      " 1   product_category_name       32340 non-null  string \n",
      " 2   product_name_lenght         32340 non-null  float64\n",
      " 3   product_description_lenght  32340 non-null  float64\n",
      " 4   product_photos_qty          32340 non-null  float64\n",
      " 5   product_weight_g            32340 non-null  float64\n",
      " 6   product_length_cm           32340 non-null  float64\n",
      " 7   product_height_cm           32340 non-null  float64\n",
      " 8   product_width_cm            32340 non-null  float64\n",
      "dtypes: float64(7), string(2)\n",
      "memory usage: 2.5 MB\n",
      "time: 0 ns (started: 2024-05-06 10:05:43 -03:00)\n"
     ]
    }
   ],
   "source": [
    "#Revisamos que los tipos de datos sean correctos\n",
    "df_products.info()"
   ]
  },
  {
   "cell_type": "code",
   "execution_count": 33,
   "metadata": {
    "id": "5wEuXYfKJa9X"
   },
   "outputs": [
    {
     "name": "stdout",
     "output_type": "stream",
     "text": [
      "time: 0 ns (started: 2024-05-06 10:05:43 -03:00)\n"
     ]
    }
   ],
   "source": [
    "#Aplicamos la conversion a minusculas\n",
    "df_products = convertir_minusculas(df_products, \"product_category_name\")"
   ]
  },
  {
   "cell_type": "markdown",
   "metadata": {
    "id": "xzHKVzOSAEv0"
   },
   "source": [
    "### Customers"
   ]
  },
  {
   "cell_type": "code",
   "execution_count": 34,
   "metadata": {
    "id": "dMj91WhWPovs"
   },
   "outputs": [
    {
     "name": "stdout",
     "output_type": "stream",
     "text": [
      "time: 47 ms (started: 2024-05-06 10:05:43 -03:00)\n"
     ]
    }
   ],
   "source": [
    "# Lista de columnas a transfomar en string\n",
    "columnas_string_customers = [\"customer_id\",\"customer_unique_id\",\"customer_zip_code_prefix\",\"customer_city\",\"customer_state\"]\n",
    "\n",
    "#Aplicamos nuestra funcion conversora de string\n",
    "df_customers = transformar_string(df_customers, columnas_string_customers)"
   ]
  },
  {
   "cell_type": "code",
   "execution_count": 35,
   "metadata": {
    "colab": {
     "base_uri": "https://localhost:8080/"
    },
    "id": "hWNDVu_vejvE",
    "outputId": "3b802b8b-7edb-4925-8718-7c4342b4b5a6"
   },
   "outputs": [
    {
     "name": "stdout",
     "output_type": "stream",
     "text": [
      "<class 'pandas.core.frame.DataFrame'>\n",
      "RangeIndex: 99441 entries, 0 to 99440\n",
      "Data columns (total 5 columns):\n",
      " #   Column                    Non-Null Count  Dtype \n",
      "---  ------                    --------------  ----- \n",
      " 0   customer_id               99441 non-null  string\n",
      " 1   customer_unique_id        99441 non-null  string\n",
      " 2   customer_zip_code_prefix  99441 non-null  string\n",
      " 3   customer_city             99441 non-null  string\n",
      " 4   customer_state            99441 non-null  string\n",
      "dtypes: string(5)\n",
      "memory usage: 3.8 MB\n",
      "time: 15 ms (started: 2024-05-06 10:05:43 -03:00)\n"
     ]
    }
   ],
   "source": [
    "#Revisamos que los tipos de datos sean correctos\n",
    "df_customers.info()"
   ]
  },
  {
   "cell_type": "code",
   "execution_count": 36,
   "metadata": {
    "id": "6SPlRnmtC9aG"
   },
   "outputs": [
    {
     "name": "stdout",
     "output_type": "stream",
     "text": [
      "time: 47 ms (started: 2024-05-06 10:05:43 -03:00)\n"
     ]
    }
   ],
   "source": [
    "#Aplicamos la conversion a minusculas\n",
    "df_customers = convertir_minusculas(df_customers, \"customer_city\")\n",
    "\n",
    "#Aplicamos la conversion a mayusculas\n",
    "df_customers = convertir_mayusculas(df_customers, \"customer_state\")"
   ]
  },
  {
   "cell_type": "markdown",
   "metadata": {
    "id": "7Ex9T7a_C_8J"
   },
   "source": [
    "### Payments"
   ]
  },
  {
   "cell_type": "code",
   "execution_count": 37,
   "metadata": {
    "id": "Uu3GuLKLQKr0"
   },
   "outputs": [
    {
     "name": "stdout",
     "output_type": "stream",
     "text": [
      "time: 31 ms (started: 2024-05-06 10:05:43 -03:00)\n"
     ]
    }
   ],
   "source": [
    "# Lista de columnas a transfomar en string\n",
    "columnas_string_order_payments = [\"order_id\",\"payment_type\"]\n",
    "\n",
    "#Aplicamos nuestra funcion conversora de string\n",
    "df_order_payments = transformar_string(df_payments, columnas_string_order_payments)\n",
    "\n",
    "#Aplicamos la conversion a minusculas\n",
    "df_order_payments = convertir_minusculas(df_order_payments, \"payment_type\")"
   ]
  },
  {
   "cell_type": "markdown",
   "metadata": {
    "id": "m9NOdVjC1R-i"
   },
   "source": [
    "## NUEVOS DATAFRAMES\n",
    "\n",
    "A partir de los dataset originales y despues de trabajar con las columnas que los componen vamos a generar dos nuevos DataFrames que exportaremos a csv para poder utilizarlos y generar un reporte con visualizaciones"
   ]
  },
  {
   "cell_type": "code",
   "execution_count": 38,
   "metadata": {
    "id": "Y0DHc5wd39Nm"
   },
   "outputs": [
    {
     "name": "stdout",
     "output_type": "stream",
     "text": [
      "time: 0 ns (started: 2024-05-06 10:05:43 -03:00)\n"
     ]
    }
   ],
   "source": [
    "# Crear la carpeta 'dataset_generados' si no existe\n",
    "if not os.path.exists('dataset_generados'):\n",
    "    os.makedirs('dataset_generados')"
   ]
  },
  {
   "cell_type": "code",
   "execution_count": 39,
   "metadata": {},
   "outputs": [
    {
     "name": "stdout",
     "output_type": "stream",
     "text": [
      "time: 578 ms (started: 2024-05-06 10:05:43 -03:00)\n"
     ]
    }
   ],
   "source": [
    "#Realizamos los merge\n",
    "df_merge1 = pd.merge(df_orders, df_payments, how = \"inner\", on= \"order_id\")\n",
    "df_merge2 = pd.merge(df_merge1, df_order_items, how = \"inner\", on= \"order_id\")\n",
    "df_merge3 = pd.merge(df_merge2, df_customers, how = \"inner\", on= \"customer_id\")"
   ]
  },
  {
   "cell_type": "code",
   "execution_count": 40,
   "metadata": {},
   "outputs": [
    {
     "name": "stdout",
     "output_type": "stream",
     "text": [
      "time: 47 ms (started: 2024-05-06 10:05:43 -03:00)\n"
     ]
    }
   ],
   "source": [
    "columnas_a_borrar=['order_approved_at','order_delivered_carrier_date',\n",
    "                   'order_delivered_customer_date','order_estimated_delivery_date',\n",
    "                   'payment_sequential','payment_installments','shipping_limit_date',\n",
    "                  'customer_zip_code_prefix','customer_unique_id','seller_id','order_item_id'\n",
    "                  ]\n",
    "df_merge3.drop(columnas_a_borrar, axis=1, inplace=True) #Indicamos el nombre de las columnas y que vamos a mantener los cambios\n"
   ]
  },
  {
   "cell_type": "code",
   "execution_count": 41,
   "metadata": {},
   "outputs": [
    {
     "name": "stdout",
     "output_type": "stream",
     "text": [
      "time: 2 s (started: 2024-05-06 10:05:43 -03:00)\n"
     ]
    }
   ],
   "source": [
    "# Extracción de atributos para la fecha de compra - Año y Mes\n",
    "df_merge3['order_purchase_year'] = df_merge3['order_purchase_timestamp'].apply(lambda x: x.year)\n",
    "df_merge3['order_purchase_month'] = df_merge3['order_purchase_timestamp'].apply(lambda x: x.month)\n",
    "df_merge3['order_purchase_month_name'] = df_merge3['order_purchase_timestamp'].apply(lambda x: x.strftime('%b'))\n",
    "\n",
    "# Extraer atributos para la fecha de compra - Día de la semana\n",
    "df_merge3['order_purchase_day'] = df_merge3['order_purchase_timestamp'].apply(lambda x: x.day)\n",
    "df_merge3['order_purchase_dayofweek_name'] = df_merge3['order_purchase_timestamp'].apply(lambda x: x.strftime('%a'))\n",
    "\n",
    "\n",
    "# Extracción de atributos para la fecha de compra: hora y momento del día\n",
    "df_merge3['order_purchase_hour'] = df_merge3['order_purchase_timestamp'].apply(lambda x: x.hour)\n",
    "hours_bins = [-0.1, 6, 12, 18, 23]\n",
    "hours_labels = ['Madrugada', 'Mañana', 'Tarde', 'Noche']\n",
    "df_merge3['order_purchase_time_day'] = pd.cut(df_merge3['order_purchase_hour'], hours_bins, labels=hours_labels)"
   ]
  },
  {
   "cell_type": "code",
   "execution_count": 42,
   "metadata": {},
   "outputs": [
    {
     "data": {
      "text/html": [
       "<div>\n",
       "<style scoped>\n",
       "    .dataframe tbody tr th:only-of-type {\n",
       "        vertical-align: middle;\n",
       "    }\n",
       "\n",
       "    .dataframe tbody tr th {\n",
       "        vertical-align: top;\n",
       "    }\n",
       "\n",
       "    .dataframe thead th {\n",
       "        text-align: right;\n",
       "    }\n",
       "</style>\n",
       "<table border=\"1\" class=\"dataframe\">\n",
       "  <thead>\n",
       "    <tr style=\"text-align: right;\">\n",
       "      <th></th>\n",
       "      <th>order_id</th>\n",
       "      <th>customer_id</th>\n",
       "      <th>order_status</th>\n",
       "      <th>order_purchase_timestamp</th>\n",
       "      <th>payment_type</th>\n",
       "      <th>payment_value</th>\n",
       "      <th>product_id</th>\n",
       "      <th>price</th>\n",
       "      <th>freight_value</th>\n",
       "      <th>customer_city</th>\n",
       "      <th>...</th>\n",
       "      <th>order_purchase_hour</th>\n",
       "      <th>order_purchase_time_day</th>\n",
       "      <th>product_category_name</th>\n",
       "      <th>product_name_lenght</th>\n",
       "      <th>product_description_lenght</th>\n",
       "      <th>product_photos_qty</th>\n",
       "      <th>product_weight_g</th>\n",
       "      <th>product_length_cm</th>\n",
       "      <th>product_height_cm</th>\n",
       "      <th>product_width_cm</th>\n",
       "    </tr>\n",
       "  </thead>\n",
       "  <tbody>\n",
       "    <tr>\n",
       "      <th>0</th>\n",
       "      <td>e481f51cbdc54678b7cc49136f2d6af7</td>\n",
       "      <td>9ef432eb6251297304e76186b10a928d</td>\n",
       "      <td>delivered</td>\n",
       "      <td>2017-10-02 10:56:33</td>\n",
       "      <td>credit_card</td>\n",
       "      <td>18.12</td>\n",
       "      <td>87285b34884572647811a353c7ac498a</td>\n",
       "      <td>29.99</td>\n",
       "      <td>8.72</td>\n",
       "      <td>sao paulo</td>\n",
       "      <td>...</td>\n",
       "      <td>10</td>\n",
       "      <td>Mañana</td>\n",
       "      <td>utilidades_domesticas</td>\n",
       "      <td>40.0</td>\n",
       "      <td>268.0</td>\n",
       "      <td>4.0</td>\n",
       "      <td>500.0</td>\n",
       "      <td>19.0</td>\n",
       "      <td>8.0</td>\n",
       "      <td>13.0</td>\n",
       "    </tr>\n",
       "    <tr>\n",
       "      <th>1</th>\n",
       "      <td>e481f51cbdc54678b7cc49136f2d6af7</td>\n",
       "      <td>9ef432eb6251297304e76186b10a928d</td>\n",
       "      <td>delivered</td>\n",
       "      <td>2017-10-02 10:56:33</td>\n",
       "      <td>voucher</td>\n",
       "      <td>2.00</td>\n",
       "      <td>87285b34884572647811a353c7ac498a</td>\n",
       "      <td>29.99</td>\n",
       "      <td>8.72</td>\n",
       "      <td>sao paulo</td>\n",
       "      <td>...</td>\n",
       "      <td>10</td>\n",
       "      <td>Mañana</td>\n",
       "      <td>utilidades_domesticas</td>\n",
       "      <td>40.0</td>\n",
       "      <td>268.0</td>\n",
       "      <td>4.0</td>\n",
       "      <td>500.0</td>\n",
       "      <td>19.0</td>\n",
       "      <td>8.0</td>\n",
       "      <td>13.0</td>\n",
       "    </tr>\n",
       "    <tr>\n",
       "      <th>2</th>\n",
       "      <td>e481f51cbdc54678b7cc49136f2d6af7</td>\n",
       "      <td>9ef432eb6251297304e76186b10a928d</td>\n",
       "      <td>delivered</td>\n",
       "      <td>2017-10-02 10:56:33</td>\n",
       "      <td>voucher</td>\n",
       "      <td>18.59</td>\n",
       "      <td>87285b34884572647811a353c7ac498a</td>\n",
       "      <td>29.99</td>\n",
       "      <td>8.72</td>\n",
       "      <td>sao paulo</td>\n",
       "      <td>...</td>\n",
       "      <td>10</td>\n",
       "      <td>Mañana</td>\n",
       "      <td>utilidades_domesticas</td>\n",
       "      <td>40.0</td>\n",
       "      <td>268.0</td>\n",
       "      <td>4.0</td>\n",
       "      <td>500.0</td>\n",
       "      <td>19.0</td>\n",
       "      <td>8.0</td>\n",
       "      <td>13.0</td>\n",
       "    </tr>\n",
       "    <tr>\n",
       "      <th>3</th>\n",
       "      <td>128e10d95713541c87cd1a2e48201934</td>\n",
       "      <td>a20e8105f23924cd00833fd87daa0831</td>\n",
       "      <td>delivered</td>\n",
       "      <td>2017-08-15 18:29:31</td>\n",
       "      <td>credit_card</td>\n",
       "      <td>37.77</td>\n",
       "      <td>87285b34884572647811a353c7ac498a</td>\n",
       "      <td>29.99</td>\n",
       "      <td>7.78</td>\n",
       "      <td>sao paulo</td>\n",
       "      <td>...</td>\n",
       "      <td>18</td>\n",
       "      <td>Tarde</td>\n",
       "      <td>utilidades_domesticas</td>\n",
       "      <td>40.0</td>\n",
       "      <td>268.0</td>\n",
       "      <td>4.0</td>\n",
       "      <td>500.0</td>\n",
       "      <td>19.0</td>\n",
       "      <td>8.0</td>\n",
       "      <td>13.0</td>\n",
       "    </tr>\n",
       "    <tr>\n",
       "      <th>4</th>\n",
       "      <td>0e7e841ddf8f8f2de2bad69267ecfbcf</td>\n",
       "      <td>26c7ac168e1433912a51b924fbd34d34</td>\n",
       "      <td>delivered</td>\n",
       "      <td>2017-08-02 18:24:47</td>\n",
       "      <td>credit_card</td>\n",
       "      <td>37.77</td>\n",
       "      <td>87285b34884572647811a353c7ac498a</td>\n",
       "      <td>29.99</td>\n",
       "      <td>7.78</td>\n",
       "      <td>sao paulo</td>\n",
       "      <td>...</td>\n",
       "      <td>18</td>\n",
       "      <td>Tarde</td>\n",
       "      <td>utilidades_domesticas</td>\n",
       "      <td>40.0</td>\n",
       "      <td>268.0</td>\n",
       "      <td>4.0</td>\n",
       "      <td>500.0</td>\n",
       "      <td>19.0</td>\n",
       "      <td>8.0</td>\n",
       "      <td>13.0</td>\n",
       "    </tr>\n",
       "    <tr>\n",
       "      <th>...</th>\n",
       "      <td>...</td>\n",
       "      <td>...</td>\n",
       "      <td>...</td>\n",
       "      <td>...</td>\n",
       "      <td>...</td>\n",
       "      <td>...</td>\n",
       "      <td>...</td>\n",
       "      <td>...</td>\n",
       "      <td>...</td>\n",
       "      <td>...</td>\n",
       "      <td>...</td>\n",
       "      <td>...</td>\n",
       "      <td>...</td>\n",
       "      <td>...</td>\n",
       "      <td>...</td>\n",
       "      <td>...</td>\n",
       "      <td>...</td>\n",
       "      <td>...</td>\n",
       "      <td>...</td>\n",
       "      <td>...</td>\n",
       "      <td>...</td>\n",
       "    </tr>\n",
       "    <tr>\n",
       "      <th>113385</th>\n",
       "      <td>e8fd20068b9f7e6ec07068bb7537f781</td>\n",
       "      <td>609b9fb8cad4fe0c7b376f77c8ab76ad</td>\n",
       "      <td>delivered</td>\n",
       "      <td>2017-08-10 21:21:07</td>\n",
       "      <td>credit_card</td>\n",
       "      <td>748.24</td>\n",
       "      <td>0df37da38a30a713453b03053d60d3f7</td>\n",
       "      <td>356.00</td>\n",
       "      <td>18.12</td>\n",
       "      <td>sao paulo</td>\n",
       "      <td>...</td>\n",
       "      <td>21</td>\n",
       "      <td>Noche</td>\n",
       "      <td>esporte_lazer</td>\n",
       "      <td>53.0</td>\n",
       "      <td>1105.0</td>\n",
       "      <td>1.0</td>\n",
       "      <td>2800.0</td>\n",
       "      <td>28.0</td>\n",
       "      <td>23.0</td>\n",
       "      <td>23.0</td>\n",
       "    </tr>\n",
       "    <tr>\n",
       "      <th>113386</th>\n",
       "      <td>e8fd20068b9f7e6ec07068bb7537f781</td>\n",
       "      <td>609b9fb8cad4fe0c7b376f77c8ab76ad</td>\n",
       "      <td>delivered</td>\n",
       "      <td>2017-08-10 21:21:07</td>\n",
       "      <td>credit_card</td>\n",
       "      <td>748.24</td>\n",
       "      <td>0df37da38a30a713453b03053d60d3f7</td>\n",
       "      <td>356.00</td>\n",
       "      <td>18.12</td>\n",
       "      <td>sao paulo</td>\n",
       "      <td>...</td>\n",
       "      <td>21</td>\n",
       "      <td>Noche</td>\n",
       "      <td>esporte_lazer</td>\n",
       "      <td>53.0</td>\n",
       "      <td>1105.0</td>\n",
       "      <td>1.0</td>\n",
       "      <td>2800.0</td>\n",
       "      <td>28.0</td>\n",
       "      <td>23.0</td>\n",
       "      <td>23.0</td>\n",
       "    </tr>\n",
       "    <tr>\n",
       "      <th>113387</th>\n",
       "      <td>cfa78b997e329a5295b4ee6972c02979</td>\n",
       "      <td>a2f7428f0cafbc8e59f20e1444b67315</td>\n",
       "      <td>delivered</td>\n",
       "      <td>2017-12-20 09:52:41</td>\n",
       "      <td>credit_card</td>\n",
       "      <td>71.04</td>\n",
       "      <td>3d2c44374ee42b3003a470f3e937a2ea</td>\n",
       "      <td>55.90</td>\n",
       "      <td>15.14</td>\n",
       "      <td>campo do tenente</td>\n",
       "      <td>...</td>\n",
       "      <td>9</td>\n",
       "      <td>Mañana</td>\n",
       "      <td>instrumentos_musicais</td>\n",
       "      <td>34.0</td>\n",
       "      <td>372.0</td>\n",
       "      <td>2.0</td>\n",
       "      <td>300.0</td>\n",
       "      <td>16.0</td>\n",
       "      <td>6.0</td>\n",
       "      <td>12.0</td>\n",
       "    </tr>\n",
       "    <tr>\n",
       "      <th>113388</th>\n",
       "      <td>9c5dedf39a927c1b2549525ed64a053c</td>\n",
       "      <td>39bd1228ee8140590ac3aca26f2dfe00</td>\n",
       "      <td>delivered</td>\n",
       "      <td>2017-03-09 09:54:05</td>\n",
       "      <td>credit_card</td>\n",
       "      <td>85.08</td>\n",
       "      <td>ac35486adb7b02598c182c2ff2e05254</td>\n",
       "      <td>72.00</td>\n",
       "      <td>13.08</td>\n",
       "      <td>sao jose dos campos</td>\n",
       "      <td>...</td>\n",
       "      <td>9</td>\n",
       "      <td>Mañana</td>\n",
       "      <td>beleza_saude</td>\n",
       "      <td>50.0</td>\n",
       "      <td>1517.0</td>\n",
       "      <td>1.0</td>\n",
       "      <td>1175.0</td>\n",
       "      <td>22.0</td>\n",
       "      <td>13.0</td>\n",
       "      <td>18.0</td>\n",
       "    </tr>\n",
       "    <tr>\n",
       "      <th>113389</th>\n",
       "      <td>66dea50a8b16d9b4dee7af250b4be1a5</td>\n",
       "      <td>edb027a75a1449115f6b43211ae02a24</td>\n",
       "      <td>delivered</td>\n",
       "      <td>2018-03-08 20:57:30</td>\n",
       "      <td>debit_card</td>\n",
       "      <td>86.86</td>\n",
       "      <td>006619bbed68b000c8ba3f8725d5409e</td>\n",
       "      <td>68.50</td>\n",
       "      <td>18.36</td>\n",
       "      <td>lapa</td>\n",
       "      <td>...</td>\n",
       "      <td>20</td>\n",
       "      <td>Noche</td>\n",
       "      <td>beleza_saude</td>\n",
       "      <td>45.0</td>\n",
       "      <td>569.0</td>\n",
       "      <td>1.0</td>\n",
       "      <td>150.0</td>\n",
       "      <td>16.0</td>\n",
       "      <td>7.0</td>\n",
       "      <td>15.0</td>\n",
       "    </tr>\n",
       "  </tbody>\n",
       "</table>\n",
       "<p>113390 rows × 26 columns</p>\n",
       "</div>"
      ],
      "text/plain": [
       "                                order_id                       customer_id  \\\n",
       "0       e481f51cbdc54678b7cc49136f2d6af7  9ef432eb6251297304e76186b10a928d   \n",
       "1       e481f51cbdc54678b7cc49136f2d6af7  9ef432eb6251297304e76186b10a928d   \n",
       "2       e481f51cbdc54678b7cc49136f2d6af7  9ef432eb6251297304e76186b10a928d   \n",
       "3       128e10d95713541c87cd1a2e48201934  a20e8105f23924cd00833fd87daa0831   \n",
       "4       0e7e841ddf8f8f2de2bad69267ecfbcf  26c7ac168e1433912a51b924fbd34d34   \n",
       "...                                  ...                               ...   \n",
       "113385  e8fd20068b9f7e6ec07068bb7537f781  609b9fb8cad4fe0c7b376f77c8ab76ad   \n",
       "113386  e8fd20068b9f7e6ec07068bb7537f781  609b9fb8cad4fe0c7b376f77c8ab76ad   \n",
       "113387  cfa78b997e329a5295b4ee6972c02979  a2f7428f0cafbc8e59f20e1444b67315   \n",
       "113388  9c5dedf39a927c1b2549525ed64a053c  39bd1228ee8140590ac3aca26f2dfe00   \n",
       "113389  66dea50a8b16d9b4dee7af250b4be1a5  edb027a75a1449115f6b43211ae02a24   \n",
       "\n",
       "       order_status order_purchase_timestamp payment_type  payment_value  \\\n",
       "0         delivered      2017-10-02 10:56:33  credit_card          18.12   \n",
       "1         delivered      2017-10-02 10:56:33      voucher           2.00   \n",
       "2         delivered      2017-10-02 10:56:33      voucher          18.59   \n",
       "3         delivered      2017-08-15 18:29:31  credit_card          37.77   \n",
       "4         delivered      2017-08-02 18:24:47  credit_card          37.77   \n",
       "...             ...                      ...          ...            ...   \n",
       "113385    delivered      2017-08-10 21:21:07  credit_card         748.24   \n",
       "113386    delivered      2017-08-10 21:21:07  credit_card         748.24   \n",
       "113387    delivered      2017-12-20 09:52:41  credit_card          71.04   \n",
       "113388    delivered      2017-03-09 09:54:05  credit_card          85.08   \n",
       "113389    delivered      2018-03-08 20:57:30   debit_card          86.86   \n",
       "\n",
       "                              product_id   price  freight_value  \\\n",
       "0       87285b34884572647811a353c7ac498a   29.99           8.72   \n",
       "1       87285b34884572647811a353c7ac498a   29.99           8.72   \n",
       "2       87285b34884572647811a353c7ac498a   29.99           8.72   \n",
       "3       87285b34884572647811a353c7ac498a   29.99           7.78   \n",
       "4       87285b34884572647811a353c7ac498a   29.99           7.78   \n",
       "...                                  ...     ...            ...   \n",
       "113385  0df37da38a30a713453b03053d60d3f7  356.00          18.12   \n",
       "113386  0df37da38a30a713453b03053d60d3f7  356.00          18.12   \n",
       "113387  3d2c44374ee42b3003a470f3e937a2ea   55.90          15.14   \n",
       "113388  ac35486adb7b02598c182c2ff2e05254   72.00          13.08   \n",
       "113389  006619bbed68b000c8ba3f8725d5409e   68.50          18.36   \n",
       "\n",
       "              customer_city  ... order_purchase_hour  order_purchase_time_day  \\\n",
       "0                 sao paulo  ...                  10                   Mañana   \n",
       "1                 sao paulo  ...                  10                   Mañana   \n",
       "2                 sao paulo  ...                  10                   Mañana   \n",
       "3                 sao paulo  ...                  18                    Tarde   \n",
       "4                 sao paulo  ...                  18                    Tarde   \n",
       "...                     ...  ...                 ...                      ...   \n",
       "113385            sao paulo  ...                  21                    Noche   \n",
       "113386            sao paulo  ...                  21                    Noche   \n",
       "113387     campo do tenente  ...                   9                   Mañana   \n",
       "113388  sao jose dos campos  ...                   9                   Mañana   \n",
       "113389                 lapa  ...                  20                    Noche   \n",
       "\n",
       "        product_category_name product_name_lenght  product_description_lenght  \\\n",
       "0       utilidades_domesticas                40.0                       268.0   \n",
       "1       utilidades_domesticas                40.0                       268.0   \n",
       "2       utilidades_domesticas                40.0                       268.0   \n",
       "3       utilidades_domesticas                40.0                       268.0   \n",
       "4       utilidades_domesticas                40.0                       268.0   \n",
       "...                       ...                 ...                         ...   \n",
       "113385          esporte_lazer                53.0                      1105.0   \n",
       "113386          esporte_lazer                53.0                      1105.0   \n",
       "113387  instrumentos_musicais                34.0                       372.0   \n",
       "113388           beleza_saude                50.0                      1517.0   \n",
       "113389           beleza_saude                45.0                       569.0   \n",
       "\n",
       "       product_photos_qty  product_weight_g product_length_cm  \\\n",
       "0                     4.0             500.0              19.0   \n",
       "1                     4.0             500.0              19.0   \n",
       "2                     4.0             500.0              19.0   \n",
       "3                     4.0             500.0              19.0   \n",
       "4                     4.0             500.0              19.0   \n",
       "...                   ...               ...               ...   \n",
       "113385                1.0            2800.0              28.0   \n",
       "113386                1.0            2800.0              28.0   \n",
       "113387                2.0             300.0              16.0   \n",
       "113388                1.0            1175.0              22.0   \n",
       "113389                1.0             150.0              16.0   \n",
       "\n",
       "       product_height_cm  product_width_cm  \n",
       "0                    8.0              13.0  \n",
       "1                    8.0              13.0  \n",
       "2                    8.0              13.0  \n",
       "3                    8.0              13.0  \n",
       "4                    8.0              13.0  \n",
       "...                  ...               ...  \n",
       "113385              23.0              23.0  \n",
       "113386              23.0              23.0  \n",
       "113387               6.0              12.0  \n",
       "113388              13.0              18.0  \n",
       "113389               7.0              15.0  \n",
       "\n",
       "[113390 rows x 26 columns]"
      ]
     },
     "execution_count": 42,
     "metadata": {},
     "output_type": "execute_result"
    },
    {
     "name": "stdout",
     "output_type": "stream",
     "text": [
      "time: 531 ms (started: 2024-05-06 10:05:45 -03:00)\n"
     ]
    }
   ],
   "source": [
    "#Realizamos un merge\n",
    "df_merge4 = pd.merge(df_merge3, df_products, how = \"inner\", on= \"product_id\")\n",
    "df_merge4"
   ]
  },
  {
   "cell_type": "markdown",
   "metadata": {},
   "source": [
    "## EXPORTAR DATASETS LIMPIOS"
   ]
  },
  {
   "cell_type": "raw",
   "metadata": {},
   "source": [
    "df_orders.to_csv(\"dataset_generados/df_orders.csv\")\n",
    "df_order_items.to_csv(\"dataset_generados/df_orders_items.csv\")\n",
    "df_products.to_csv(\"dataset_generados/df_products.csv\")\n",
    "df_customers.to_csv(\"dataset_generados/df_customers.csv\")\n",
    "df_payments.to_csv(\"dataset_generados/df_payments.csv\")\n",
    "df_merge4.to_csv(\"dataset_generados/df_resultante.csv\")"
   ]
  },
  {
   "cell_type": "markdown",
   "metadata": {
    "id": "vlpDvTgRFYkV"
   },
   "source": [
    "## ANALISIS DATAFRAMES\n",
    "\n",
    "Despues de tranformar los DataFrame podemos realizar un análisis de los datos que contienen, para poder extraer información relevante (insights)."
   ]
  },
  {
   "cell_type": "markdown",
   "metadata": {
    "id": "L7xLdr9-KFgg"
   },
   "source": [
    "### Funcion analisis_data_frames_round"
   ]
  },
  {
   "cell_type": "code",
   "execution_count": 43,
   "metadata": {},
   "outputs": [
    {
     "name": "stdout",
     "output_type": "stream",
     "text": [
      "time: 0 ns (started: 2024-05-06 10:05:46 -03:00)\n"
     ]
    }
   ],
   "source": [
    "#Definimos una función para obtener insights relevantes de nuestros dataframes\n",
    "def analisis_data_frames_round(df): #Como parametro tenemos los dataframes\n",
    "  print(separador)\n",
    "  print(\"Análisis variables cuantitativas\\n\")\n",
    "  columnas_numericas = df.select_dtypes(include=['int', 'float']).columns #Extraemos las columnas numericas\n",
    "  if not columnas_numericas.empty: #Aplicamos un if en caso de que no tenga columnas numéricas el dataframe\n",
    "      descriptivas=df[columnas_numericas].describe()\n",
    "      descriptivas_redondeadas = descriptivas.round(2)\n",
    "      print(descriptivas_redondeadas) #Usamos el describe para aquellas columnas cuantitativas\n",
    "  print(separador)\n",
    "  print(separador)\n",
    "  print(\"Análisis variables cualitativas\\n\")\n",
    "  columnas_string = df.select_dtypes(include=['string']).columns #Extraemos las columnas string\n",
    "  if not columnas_string.empty: #Aplicamos un if en caso de que no tenga columnas del tipo string el dataframe\n",
    "    print(df[columnas_string].describe()) #Usamos el describe para aquellas columnas cualitativas"
   ]
  },
  {
   "cell_type": "markdown",
   "metadata": {},
   "source": [
    "### Funcion tipos_porcentaje"
   ]
  },
  {
   "cell_type": "code",
   "execution_count": 44,
   "metadata": {},
   "outputs": [
    {
     "name": "stdout",
     "output_type": "stream",
     "text": [
      "time: 0 ns (started: 2024-05-06 10:05:46 -03:00)\n"
     ]
    }
   ],
   "source": [
    "# Con esta funcion podemos crear una tabla que nos muestre la cantidad de valores y su porcentaje\n",
    "def tipos_porcentaje(df):\n",
    "    # Calcular la cantidad de valores por columna\n",
    "    valores =df.value_counts()\n",
    "    \n",
    "    total_valores=len(df)\n",
    "    \n",
    "    # Calcular el porcentaje de valores por columna\n",
    "    porcentaje_valores = round(valores / total_valores * 100, 2)\n",
    "    \n",
    "    # Crear un DataFrame para almacenar los resultados\n",
    "    tabla_valores = pd.DataFrame({'Cantidad': valores, 'Porcentaje': porcentaje_valores})\n",
    "    \n",
    "    print(tabla_valores)\n"
   ]
  },
  {
   "cell_type": "code",
   "execution_count": 45,
   "metadata": {
    "colab": {
     "base_uri": "https://localhost:8080/"
    },
    "id": "wYg_RzUkKfpB",
    "outputId": "4ff87863-2e59-4fa5-c3c4-b8e4660c9f81"
   },
   "outputs": [
    {
     "name": "stdout",
     "output_type": "stream",
     "text": [
      "============================================================\n",
      "Análisis variables cuantitativas\n",
      "\n",
      "       product_name_lenght  product_description_lenght  product_photos_qty  \\\n",
      "count             32340.00                    32340.00            32340.00   \n",
      "mean                 48.48                      771.49                2.19   \n",
      "std                  10.25                      635.12                1.74   \n",
      "min                   5.00                        4.00                1.00   \n",
      "25%                  42.00                      339.00                1.00   \n",
      "50%                  51.00                      595.00                1.00   \n",
      "75%                  57.00                      972.00                3.00   \n",
      "max                  76.00                     3992.00               20.00   \n",
      "\n",
      "       product_weight_g  product_length_cm  product_height_cm  \\\n",
      "count          32340.00           32340.00           32340.00   \n",
      "mean            2276.96              30.85              16.96   \n",
      "std             4279.29              16.96              13.64   \n",
      "min                0.00               7.00               2.00   \n",
      "25%              300.00              18.00               8.00   \n",
      "50%              700.00              25.00              13.00   \n",
      "75%             1900.00              38.00              21.00   \n",
      "max            40425.00             105.00             105.00   \n",
      "\n",
      "       product_width_cm  \n",
      "count          32340.00  \n",
      "mean              23.21  \n",
      "std               12.08  \n",
      "min                6.00  \n",
      "25%               15.00  \n",
      "50%               20.00  \n",
      "75%               30.00  \n",
      "max              118.00  \n",
      "============================================================\n",
      "============================================================\n",
      "Análisis variables cualitativas\n",
      "\n",
      "                              product_id product_category_name\n",
      "count                              32340                 32340\n",
      "unique                             32340                    73\n",
      "top     1e9e8ef04dbcff4541ed26657ea517e5       cama_mesa_banho\n",
      "freq                                   1                  3029\n",
      "time: 47 ms (started: 2024-05-06 10:05:46 -03:00)\n"
     ]
    }
   ],
   "source": [
    "#Aplicamos la función\n",
    "analisis_data_frames_round(df_products)"
   ]
  },
  {
   "cell_type": "code",
   "execution_count": 46,
   "metadata": {},
   "outputs": [
    {
     "name": "stdout",
     "output_type": "stream",
     "text": [
      "                               Cantidad  Porcentaje\n",
      "product_category_name                              \n",
      "cama_mesa_banho                    3029        9.37\n",
      "esporte_lazer                      2867        8.87\n",
      "moveis_decoracao                   2657        8.22\n",
      "beleza_saude                       2444        7.56\n",
      "utilidades_domesticas              2335        7.22\n",
      "...                                 ...         ...\n",
      "fashion_roupa_infanto_juvenil         5        0.02\n",
      "casa_conforto_2                       5        0.02\n",
      "pc_gamer                              3        0.01\n",
      "seguros_e_servicos                    2        0.01\n",
      "cds_dvds_musicais                     1         0.0\n",
      "\n",
      "[73 rows x 2 columns]\n",
      "time: 15 ms (started: 2024-05-06 10:05:46 -03:00)\n"
     ]
    }
   ],
   "source": [
    "#Analizamos las categorias\n",
    "tipos_porcentaje(df_products.product_category_name)"
   ]
  },
  {
   "cell_type": "markdown",
   "metadata": {
    "id": "1yMnM4hlhDDO"
   },
   "source": [
    "Podemos observar que claramente los productos mas vendidos son aquellos relacionados con el hogar (articulos del habitación, baño, utilies del hogar).\n",
    "Ademas vemos que en la mayoria de los casos con tener solo una foto en la descripción de los productos es suficiente para atraer compradores."
   ]
  },
  {
   "cell_type": "code",
   "execution_count": 47,
   "metadata": {
    "colab": {
     "base_uri": "https://localhost:8080/"
    },
    "id": "w4x1MYHWKhqz",
    "outputId": "b9227dd2-0307-4f3b-a82d-c15cd307c9e8"
   },
   "outputs": [
    {
     "name": "stdout",
     "output_type": "stream",
     "text": [
      "============================================================\n",
      "Análisis variables cuantitativas\n",
      "\n",
      "============================================================\n",
      "============================================================\n",
      "Análisis variables cualitativas\n",
      "\n",
      "                             customer_id                customer_unique_id  \\\n",
      "count                              99441                             99441   \n",
      "unique                             99441                             96096   \n",
      "top     06b8999e2fba1a1fbc88172c00ba8bc7  8d50f5eadf50201ccdcedfb9e2ac8455   \n",
      "freq                                   1                                17   \n",
      "\n",
      "       customer_zip_code_prefix customer_city customer_state  \n",
      "count                     99441         99441          99441  \n",
      "unique                    14994          4119             27  \n",
      "top                       22790     sao paulo             SP  \n",
      "freq                        142         15540          41746  \n",
      "time: 188 ms (started: 2024-05-06 10:05:46 -03:00)\n"
     ]
    }
   ],
   "source": [
    "#Aplicamos la función\n",
    "analisis_data_frames_round(df_customers)"
   ]
  },
  {
   "cell_type": "code",
   "execution_count": 48,
   "metadata": {
    "colab": {
     "base_uri": "https://localhost:8080/"
    },
    "id": "x5ziuffrLbX3",
    "outputId": "9b994456-9dcf-47d7-8303-9e6a2b453aee"
   },
   "outputs": [
    {
     "name": "stdout",
     "output_type": "stream",
     "text": [
      "                Cantidad  Porcentaje\n",
      "customer_state                      \n",
      "SP                 41746       41.98\n",
      "RJ                 12852       12.92\n",
      "MG                 11635        11.7\n",
      "RS                  5466         5.5\n",
      "PR                  5045        5.07\n",
      "SC                  3637        3.66\n",
      "BA                  3380         3.4\n",
      "DF                  2140        2.15\n",
      "ES                  2033        2.04\n",
      "GO                  2020        2.03\n",
      "PE                  1652        1.66\n",
      "CE                  1336        1.34\n",
      "PA                   975        0.98\n",
      "MT                   907        0.91\n",
      "MA                   747        0.75\n",
      "MS                   715        0.72\n",
      "PB                   536        0.54\n",
      "PI                   495         0.5\n",
      "RN                   485        0.49\n",
      "AL                   413        0.42\n",
      "SE                   350        0.35\n",
      "TO                   280        0.28\n",
      "RO                   253        0.25\n",
      "AM                   148        0.15\n",
      "AC                    81        0.08\n",
      "AP                    68        0.07\n",
      "RR                    46        0.05\n",
      "time: 0 ns (started: 2024-05-06 10:05:46 -03:00)\n"
     ]
    }
   ],
   "source": [
    "#Realizamos un analisis por regiones de los compradores\n",
    "tipos_porcentaje(df_customers.customer_state)"
   ]
  },
  {
   "cell_type": "markdown",
   "metadata": {
    "id": "2pMr_noqiKzT"
   },
   "source": [
    "Podemos ver que los clientes se encuentran en 3 Estados principalemente:\n",
    "- Sao Pablo\n",
    "- Rio de Janeiro\n",
    "- Minas Gerais"
   ]
  },
  {
   "cell_type": "code",
   "execution_count": 49,
   "metadata": {},
   "outputs": [
    {
     "name": "stdout",
     "output_type": "stream",
     "text": [
      "                Cantidad  Porcentaje\n",
      "customer_state                      \n",
      "SP                 47830       42.18\n",
      "RJ                 14651       12.92\n",
      "MG                 13234       11.67\n",
      "RS                  6284        5.54\n",
      "PR                  5790        5.11\n",
      "SC                  4161        3.67\n",
      "BA                  3859         3.4\n",
      "DF                  2389        2.11\n",
      "GO                  2319        2.05\n",
      "ES                  2288        2.02\n",
      "PE                  1804        1.59\n",
      "CE                  1482        1.31\n",
      "PA                  1071        0.94\n",
      "MT                  1067        0.94\n",
      "MS                   826        0.73\n",
      "MA                   808        0.71\n",
      "PB                   614        0.54\n",
      "RN                   555        0.49\n",
      "PI                   546        0.48\n",
      "AL                   437        0.39\n",
      "SE                   384        0.34\n",
      "TO                   330        0.29\n",
      "RO                   275        0.24\n",
      "AM                   167        0.15\n",
      "AC                    92        0.08\n",
      "AP                    83        0.07\n",
      "RR                    44        0.04\n",
      "time: 16 ms (started: 2024-05-06 10:05:46 -03:00)\n"
     ]
    }
   ],
   "source": [
    "#Realizamos un analisis por regiones de los compradores\n",
    "tipos_porcentaje(df_merge4.customer_state)"
   ]
  },
  {
   "cell_type": "markdown",
   "metadata": {},
   "source": [
    "Podemos ver que los clientes se encuentran en 3 Estados principalmente:\n",
    "- Sao Pablo\n",
    "- Rio de Janeiro\n",
    "- Minas Gerais"
   ]
  },
  {
   "cell_type": "code",
   "execution_count": 50,
   "metadata": {},
   "outputs": [
    {
     "name": "stdout",
     "output_type": "stream",
     "text": [
      "              Cantidad  Porcentaje\n",
      "order_status                      \n",
      "delivered       113383       99.99\n",
      "canceled             7        0.01\n",
      "time: 16 ms (started: 2024-05-06 10:05:46 -03:00)\n"
     ]
    }
   ],
   "source": [
    "tipos_porcentaje(df_merge4.order_status)"
   ]
  },
  {
   "cell_type": "markdown",
   "metadata": {},
   "source": [
    "Podemos observar que claramente el servicio de ecommerce tiene una clientela, un servicio de atención y entrega de productos muy fiable ya que del total de productos ordenados el 99.99% de ellos llegan a destino antes de ser cancelados"
   ]
  },
  {
   "cell_type": "code",
   "execution_count": 51,
   "metadata": {},
   "outputs": [
    {
     "name": "stdout",
     "output_type": "stream",
     "text": [
      "                                               Cantidad  Porcentaje\n",
      "product_category_name                                              \n",
      "cama_mesa_banho                                   11649       10.27\n",
      "beleza_saude                                       9761        8.61\n",
      "esporte_lazer                                      8731         7.7\n",
      "moveis_decoracao                                   8553        7.54\n",
      "informatica_acessorios                             7897        6.96\n",
      "...                                                 ...         ...\n",
      "portateis_cozinha_e_preparadores_de_alimentos        14        0.01\n",
      "cds_dvds_musicais                                    14        0.01\n",
      "pc_gamer                                              9        0.01\n",
      "fashion_roupa_infanto_juvenil                         7        0.01\n",
      "seguros_e_servicos                                    2         0.0\n",
      "\n",
      "[73 rows x 2 columns]\n",
      "time: 16 ms (started: 2024-05-06 10:05:46 -03:00)\n"
     ]
    }
   ],
   "source": [
    "#Analizamos las categorias\n",
    "tipos_porcentaje(df_merge4.product_category_name)"
   ]
  },
  {
   "cell_type": "markdown",
   "metadata": {},
   "source": [
    "Podemos observar que claramente los productos mas vendidos son aquellos relacionados con el hogar (articulos del habitación, baño, utilies del hogar).\n",
    "Ademas vemos que en la mayoria de los casos con tener solo una foto en la descripción de los productos es suficiente para atraer compradores."
   ]
  },
  {
   "cell_type": "code",
   "execution_count": 52,
   "metadata": {},
   "outputs": [
    {
     "name": "stdout",
     "output_type": "stream",
     "text": [
      "              Cantidad  Porcentaje\n",
      "payment_type                      \n",
      "credit_card      83706       73.82\n",
      "boleto           22047       19.44\n",
      "voucher           6012         5.3\n",
      "debit_card        1625        1.43\n",
      "time: 16 ms (started: 2024-05-06 10:05:46 -03:00)\n"
     ]
    }
   ],
   "source": [
    "#Podemos ver como son los tipos de pagos\n",
    "tipos_porcentaje(df_merge4.payment_type)"
   ]
  },
  {
   "cell_type": "markdown",
   "metadata": {},
   "source": [
    "Claramente el método de pago mas elegído es la tarjeta de crédito."
   ]
  }
 ],
 "metadata": {
  "colab": {
   "authorship_tag": "ABX9TyPejxki+oT7ELXGI5dHpx/u",
   "include_colab_link": true,
   "provenance": [],
   "toc_visible": true
  },
  "kernelspec": {
   "display_name": "Python 3 (ipykernel)",
   "language": "python",
   "name": "python3"
  },
  "language_info": {
   "codemirror_mode": {
    "name": "ipython",
    "version": 3
   },
   "file_extension": ".py",
   "mimetype": "text/x-python",
   "name": "python",
   "nbconvert_exporter": "python",
   "pygments_lexer": "ipython3",
   "version": "3.11.7"
  }
 },
 "nbformat": 4,
 "nbformat_minor": 4
}
